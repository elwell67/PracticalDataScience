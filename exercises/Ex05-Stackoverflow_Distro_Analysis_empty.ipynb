{
 "cells": [
  {
   "cell_type": "markdown",
   "metadata": {},
   "source": [
    "## Stack Overflow Analysis\n",
    "\n",
    "We seek to answer the question posed in https://math.meta.stackexchange.com/q/21259/384342.\n",
    "\n",
    "### Extract probability mass function of user scores\n",
    "\n",
    "http://data.stackexchange.com/math/query/567390/number-of-users-with-reputation-n\n",
    "\n",
    "### Pull that data into a pandas DF\n"
   ]
  },
  {
   "cell_type": "code",
   "execution_count": 2,
   "metadata": {
    "ExecuteTime": {
     "end_time": "2017-12-05T08:07:27.757647Z",
     "start_time": "2017-12-05T08:07:27.753022Z"
    }
   },
   "outputs": [],
   "source": [
    "import pandas as pd\n",
    "import numpy as np\n",
    "import matplotlib.pyplot as plt\n",
    "%matplotlib inline\n"
   ]
  },
  {
   "cell_type": "code",
   "execution_count": 4,
   "metadata": {
    "ExecuteTime": {
     "end_time": "2017-12-05T08:08:11.456148Z",
     "start_time": "2017-12-05T08:08:11.452891Z"
    }
   },
   "outputs": [],
   "source": [
    "# df = pd.read_csv(\n",
    "#     \"\",\n",
    "#     names=['Reputation', 'UserCount'],\n",
    "#     )\n",
    "# df.head()"
   ]
  },
  {
   "cell_type": "markdown",
   "metadata": {},
   "source": [
    "## Plot Results\n",
    "\n",
    "Use `plt.loglog`"
   ]
  },
  {
   "cell_type": "code",
   "execution_count": 5,
   "metadata": {
    "ExecuteTime": {
     "end_time": "2017-12-05T08:08:18.067494Z",
     "start_time": "2017-12-05T08:08:18.064938Z"
    }
   },
   "outputs": [],
   "source": [
    "# plt.loglog(df.Reputation, df.UserCount, 'x')"
   ]
  },
  {
   "cell_type": "markdown",
   "metadata": {},
   "source": [
    "## Bin Scores\n",
    "\n",
    "To find out if we have a power law we need to see if the log-log distribution function is linear.\n",
    "If it is sub linear the tail is less heavy than a power law.\n",
    "\n",
    "To do this, we need to bin the scores using the `pd.cut` function."
   ]
  },
  {
   "cell_type": "code",
   "execution_count": 7,
   "metadata": {
    "ExecuteTime": {
     "end_time": "2017-12-05T08:09:38.944974Z",
     "start_time": "2017-12-05T08:09:38.941875Z"
    }
   },
   "outputs": [],
   "source": [
    "# df['user_proportion'] = df.UserCount/sum(df.UserCount)\n",
    "\n",
    "\n",
    "# cut_points = np.power(10,np.arange(0,8,.1))\n",
    "\n",
    "# create df that has log_reputation and log_user_proportion"
   ]
  },
  {
   "cell_type": "code",
   "execution_count": 8,
   "metadata": {
    "ExecuteTime": {
     "end_time": "2017-12-05T08:09:45.125962Z",
     "start_time": "2017-12-05T08:09:45.123501Z"
    }
   },
   "outputs": [],
   "source": [
    "\n",
    "# plt.plot(df2.log_reputation, df2.log_user_proportion, 'mo')"
   ]
  },
  {
   "cell_type": "markdown",
   "metadata": {},
   "source": [
    "## Fit a line\n",
    "\n",
    "Use https://docs.scipy.org/doc/numpy/reference/generated/numpy.polyfit.html\n"
   ]
  },
  {
   "cell_type": "code",
   "execution_count": null,
   "metadata": {
    "ExecuteTime": {
     "end_time": "2017-12-05T08:06:15.698672Z",
     "start_time": "2017-12-05T08:06:15.517601Z"
    }
   },
   "outputs": [],
   "source": []
  },
  {
   "cell_type": "markdown",
   "metadata": {},
   "source": [
    "## Repeat with all of SO\n",
    "\n",
    "https://data.stackexchange.com/stackoverflow/csv/715082\n"
   ]
  },
  {
   "cell_type": "code",
   "execution_count": null,
   "metadata": {
    "collapsed": true
   },
   "outputs": [],
   "source": []
  },
  {
   "cell_type": "code",
   "execution_count": null,
   "metadata": {
    "collapsed": true
   },
   "outputs": [],
   "source": []
  },
  {
   "cell_type": "code",
   "execution_count": null,
   "metadata": {
    "collapsed": true
   },
   "outputs": [],
   "source": []
  },
  {
   "cell_type": "markdown",
   "metadata": {},
   "source": [
    "## Putting it all together\n",
    "\n",
    "See discussion at http://rjbaxley.com/posts/2016/11/08/Stack_Exchange_Reputation_Power_Law.html"
   ]
  },
  {
   "cell_type": "code",
   "execution_count": null,
   "metadata": {
    "collapsed": true
   },
   "outputs": [],
   "source": []
  }
 ],
 "metadata": {
  "kernelspec": {
   "display_name": "Python 3",
   "language": "python",
   "name": "python3"
  },
  "language_info": {
   "codemirror_mode": {
    "name": "ipython",
    "version": 3
   },
   "file_extension": ".py",
   "mimetype": "text/x-python",
   "name": "python",
   "nbconvert_exporter": "python",
   "pygments_lexer": "ipython3",
   "version": "3.6.0"
  },
  "latex_envs": {
   "LaTeX_envs_menu_present": true,
   "autocomplete": true,
   "bibliofile": "biblio.bib",
   "cite_by": "apalike",
   "current_citInitial": 1,
   "eqLabelWithNumbers": true,
   "eqNumInitial": 1,
   "hotkeys": {
    "equation": "Ctrl-E",
    "itemize": "Ctrl-I"
   },
   "labels_anchors": false,
   "latex_user_defs": false,
   "report_style_numbering": false,
   "user_envs_cfg": false
  }
 },
 "nbformat": 4,
 "nbformat_minor": 2
}
