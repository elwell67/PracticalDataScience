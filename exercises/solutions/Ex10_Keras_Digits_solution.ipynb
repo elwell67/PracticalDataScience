{
  "nbformat": 4,
  "nbformat_minor": 0,
  "metadata": {
    "colab": {
      "name": "exercises/solutions/Ex10_Keras_Digits_solution.ipynb",
      "version": "0.3.2",
      "provenance": []
    },
    "kernelspec": {
      "name": "python3",
      "display_name": "Python 3"
    },
    "accelerator": "GPU"
  },
  "cells": [
    {
      "metadata": {
        "id": "RTp0tNsv2UIb",
        "colab_type": "text"
      },
      "cell_type": "markdown",
      "source": [
        "## Keras Digit Demonstration\n",
        "\n",
        "In this exercise, we will use a CNN to classify hand-written digits using Keras.\n",
        "\n",
        "### Imports"
      ]
    },
    {
      "metadata": {
        "id": "jthftiEwBmQd",
        "colab_type": "code",
        "colab": {}
      },
      "cell_type": "code",
      "source": [
        "\n",
        "import numpy as np\n",
        "import time\n",
        "import matplotlib.pyplot as plt\n",
        "import pandas as pd\n",
        "from sklearn.preprocessing import LabelBinarizer, minmax_scale\n",
        "\n",
        "plt.rcParams['figure.figsize'] = (15.0, 3.0)"
      ],
      "execution_count": 0,
      "outputs": []
    },
    {
      "metadata": {
        "id": "Lx-9I9yd2q1X",
        "colab_type": "text"
      },
      "cell_type": "markdown",
      "source": [
        "### Install libraries we will need to visualize our DNN"
      ]
    },
    {
      "metadata": {
        "id": "iRALHelOBnDY",
        "colab_type": "code",
        "colab": {
          "base_uri": "https://localhost:8080/",
          "height": 2992
        },
        "outputId": "a159f2ae-4687-4799-dc92-7d21e3742a2e"
      },
      "cell_type": "code",
      "source": [
        "!pip install pydot\n",
        "!apt-get install -yq graphviz"
      ],
      "execution_count": 2,
      "outputs": [
        {
          "output_type": "stream",
          "text": [
            "Collecting pydot\n",
            "\u001b[?25l  Downloading https://files.pythonhosted.org/packages/c3/f1/e61d6dfe6c1768ed2529761a68f70939e2569da043e9f15a8d84bf56cadf/pydot-1.2.4.tar.gz (132kB)\n",
            "\u001b[K    100% |████████████████████████████████| 133kB 8.1MB/s \n",
            "\u001b[?25hRequirement already satisfied: pyparsing>=2.1.4 in /usr/local/lib/python3.6/dist-packages (from pydot) (2.2.0)\n",
            "Building wheels for collected packages: pydot\n",
            "  Running setup.py bdist_wheel for pydot ... \u001b[?25l-\b \bdone\n",
            "\u001b[?25h  Stored in directory: /content/.cache/pip/wheels/6a/a5/14/25541ebcdeaf97a37b6d05c7ff15f5bd20f5e91b99d313e5b4\n",
            "Successfully built pydot\n",
            "Installing collected packages: pydot\n",
            "Successfully installed pydot-1.2.4\n",
            "Reading package lists...\n",
            "Building dependency tree...\n",
            "Reading state information...\n",
            "The following additional packages will be installed:\n",
            "  fontconfig libcairo2 libcdt5 libcgraph6 libdatrie1 libgd3 libgraphite2-3\n",
            "  libgvc6 libgvpr2 libharfbuzz0b libjbig0 libltdl7 libpango-1.0-0\n",
            "  libpangocairo-1.0-0 libpangoft2-1.0-0 libpathplan4 libpixman-1-0\n",
            "  libthai-data libthai0 libtiff5 libwebp6 libxaw7 libxcb-render0 libxcb-shm0\n",
            "  libxmu6 libxpm4 libxt6\n",
            "Suggested packages:\n",
            "  gsfonts graphviz-doc libgd-tools\n",
            "The following NEW packages will be installed:\n",
            "  fontconfig graphviz libcairo2 libcdt5 libcgraph6 libdatrie1 libgd3\n",
            "  libgraphite2-3 libgvc6 libgvpr2 libharfbuzz0b libjbig0 libltdl7\n",
            "  libpango-1.0-0 libpangocairo-1.0-0 libpangoft2-1.0-0 libpathplan4\n",
            "  libpixman-1-0 libthai-data libthai0 libtiff5 libwebp6 libxaw7 libxcb-render0\n",
            "  libxcb-shm0 libxmu6 libxpm4 libxt6\n",
            "0 upgraded, 28 newly installed, 0 to remove and 0 not upgraded.\n",
            "Need to get 4,122 kB of archives.\n",
            "After this operation, 20.6 MB of additional disk space will be used.\n",
            "Get:1 http://archive.ubuntu.com/ubuntu artful/main amd64 fontconfig amd64 2.11.94-0ubuntu2 [177 kB]\n",
            "Get:2 http://archive.ubuntu.com/ubuntu artful/main amd64 libjbig0 amd64 2.1-3.1 [26.6 kB]\n",
            "Get:3 http://archive.ubuntu.com/ubuntu artful/main amd64 libcdt5 amd64 2.38.0-16ubuntu2 [19.5 kB]\n",
            "Get:4 http://archive.ubuntu.com/ubuntu artful/main amd64 libcgraph6 amd64 2.38.0-16ubuntu2 [40.0 kB]\n",
            "Get:5 http://archive.ubuntu.com/ubuntu artful-updates/main amd64 libtiff5 amd64 4.0.8-5ubuntu0.1 [150 kB]\n",
            "Get:6 http://archive.ubuntu.com/ubuntu artful/main amd64 libwebp6 amd64 0.6.0-3 [181 kB]\n",
            "Get:7 http://archive.ubuntu.com/ubuntu artful/main amd64 libxpm4 amd64 1:3.5.12-1 [34.0 kB]\n",
            "Get:8 http://archive.ubuntu.com/ubuntu artful/main amd64 libgd3 amd64 2.2.5-3 [119 kB]\n",
            "Get:9 http://archive.ubuntu.com/ubuntu artful/main amd64 libpixman-1-0 amd64 0.34.0-1 [230 kB]\n",
            "Get:10 http://archive.ubuntu.com/ubuntu artful/main amd64 libxcb-render0 amd64 1.12-1ubuntu1 [14.8 kB]\n",
            "Get:11 http://archive.ubuntu.com/ubuntu artful/main amd64 libxcb-shm0 amd64 1.12-1ubuntu1 [5,482 B]\n",
            "Get:12 http://archive.ubuntu.com/ubuntu artful/main amd64 libcairo2 amd64 1.14.10-1ubuntu1 [558 kB]\n",
            "Get:13 http://archive.ubuntu.com/ubuntu artful/main amd64 libltdl7 amd64 2.4.6-2 [38.8 kB]\n",
            "Get:14 http://archive.ubuntu.com/ubuntu artful/main amd64 libthai-data all 0.1.26-3 [132 kB]\n",
            "Get:15 http://archive.ubuntu.com/ubuntu artful/main amd64 libdatrie1 amd64 0.2.10-5 [17.6 kB]\n",
            "Get:16 http://archive.ubuntu.com/ubuntu artful/main amd64 libthai0 amd64 0.1.26-3 [17.7 kB]\n",
            "Get:17 http://archive.ubuntu.com/ubuntu artful/main amd64 libpango-1.0-0 amd64 1.40.12-1 [152 kB]\n",
            "Get:18 http://archive.ubuntu.com/ubuntu artful/main amd64 libgraphite2-3 amd64 1.3.10-2 [78.3 kB]\n",
            "Get:19 http://archive.ubuntu.com/ubuntu artful/main amd64 libharfbuzz0b amd64 1.4.2-1 [211 kB]\n",
            "Get:20 http://archive.ubuntu.com/ubuntu artful/main amd64 libpangoft2-1.0-0 amd64 1.40.12-1 [33.2 kB]\n",
            "Get:21 http://archive.ubuntu.com/ubuntu artful/main amd64 libpangocairo-1.0-0 amd64 1.40.12-1 [20.8 kB]\n",
            "Get:22 http://archive.ubuntu.com/ubuntu artful/main amd64 libpathplan4 amd64 2.38.0-16ubuntu2 [22.6 kB]\n",
            "Get:23 http://archive.ubuntu.com/ubuntu artful/main amd64 libgvc6 amd64 2.38.0-16ubuntu2 [587 kB]\n",
            "Get:24 http://archive.ubuntu.com/ubuntu artful/main amd64 libgvpr2 amd64 2.38.0-16ubuntu2 [167 kB]\n",
            "Get:25 http://archive.ubuntu.com/ubuntu artful/main amd64 libxt6 amd64 1:1.1.5-1 [160 kB]\n",
            "Get:26 http://archive.ubuntu.com/ubuntu artful/main amd64 libxmu6 amd64 2:1.1.2-2 [46.0 kB]\n",
            "Get:27 http://archive.ubuntu.com/ubuntu artful/main amd64 libxaw7 amd64 2:1.0.13-1 [173 kB]\n",
            "Get:28 http://archive.ubuntu.com/ubuntu artful/main amd64 graphviz amd64 2.38.0-16ubuntu2 [710 kB]\n",
            "Fetched 4,122 kB in 0s (22.4 MB/s)\n",
            "Selecting previously unselected package fontconfig.\n",
            "(Reading database ... 18408 files and directories currently installed.)\n",
            "Preparing to unpack .../00-fontconfig_2.11.94-0ubuntu2_amd64.deb ...\n",
            "Unpacking fontconfig (2.11.94-0ubuntu2) ...\n",
            "Selecting previously unselected package libjbig0:amd64.\n",
            "Preparing to unpack .../01-libjbig0_2.1-3.1_amd64.deb ...\n",
            "Unpacking libjbig0:amd64 (2.1-3.1) ...\n",
            "Selecting previously unselected package libcdt5.\n",
            "Preparing to unpack .../02-libcdt5_2.38.0-16ubuntu2_amd64.deb ...\n",
            "Unpacking libcdt5 (2.38.0-16ubuntu2) ...\n",
            "Selecting previously unselected package libcgraph6.\n",
            "Preparing to unpack .../03-libcgraph6_2.38.0-16ubuntu2_amd64.deb ...\n",
            "Unpacking libcgraph6 (2.38.0-16ubuntu2) ...\n",
            "Selecting previously unselected package libtiff5:amd64.\n",
            "Preparing to unpack .../04-libtiff5_4.0.8-5ubuntu0.1_amd64.deb ...\n",
            "Unpacking libtiff5:amd64 (4.0.8-5ubuntu0.1) ...\n",
            "Selecting previously unselected package libwebp6:amd64.\n",
            "Preparing to unpack .../05-libwebp6_0.6.0-3_amd64.deb ...\n",
            "Unpacking libwebp6:amd64 (0.6.0-3) ...\n",
            "Selecting previously unselected package libxpm4:amd64.\n",
            "Preparing to unpack .../06-libxpm4_1%3a3.5.12-1_amd64.deb ...\n",
            "Unpacking libxpm4:amd64 (1:3.5.12-1) ...\n",
            "Selecting previously unselected package libgd3:amd64.\n",
            "Preparing to unpack .../07-libgd3_2.2.5-3_amd64.deb ...\n",
            "Unpacking libgd3:amd64 (2.2.5-3) ...\n",
            "Selecting previously unselected package libpixman-1-0:amd64.\n",
            "Preparing to unpack .../08-libpixman-1-0_0.34.0-1_amd64.deb ...\n",
            "Unpacking libpixman-1-0:amd64 (0.34.0-1) ...\n",
            "Selecting previously unselected package libxcb-render0:amd64.\n",
            "Preparing to unpack .../09-libxcb-render0_1.12-1ubuntu1_amd64.deb ...\n",
            "Unpacking libxcb-render0:amd64 (1.12-1ubuntu1) ...\n",
            "Selecting previously unselected package libxcb-shm0:amd64.\n",
            "Preparing to unpack .../10-libxcb-shm0_1.12-1ubuntu1_amd64.deb ...\n",
            "Unpacking libxcb-shm0:amd64 (1.12-1ubuntu1) ...\n"
          ],
          "name": "stdout"
        },
        {
          "output_type": "stream",
          "text": [
            "Selecting previously unselected package libcairo2:amd64.\r\n",
            "Preparing to unpack .../11-libcairo2_1.14.10-1ubuntu1_amd64.deb ...\r\n",
            "Unpacking libcairo2:amd64 (1.14.10-1ubuntu1) ...\n",
            "Selecting previously unselected package libltdl7:amd64.\n",
            "Preparing to unpack .../12-libltdl7_2.4.6-2_amd64.deb ...\n",
            "Unpacking libltdl7:amd64 (2.4.6-2) ...\n",
            "Selecting previously unselected package libthai-data.\n",
            "Preparing to unpack .../13-libthai-data_0.1.26-3_all.deb ...\n",
            "Unpacking libthai-data (0.1.26-3) ...\n",
            "Selecting previously unselected package libdatrie1:amd64.\n",
            "Preparing to unpack .../14-libdatrie1_0.2.10-5_amd64.deb ...\n",
            "Unpacking libdatrie1:amd64 (0.2.10-5) ...\n",
            "Selecting previously unselected package libthai0:amd64.\n",
            "Preparing to unpack .../15-libthai0_0.1.26-3_amd64.deb ...\n",
            "Unpacking libthai0:amd64 (0.1.26-3) ...\n",
            "Selecting previously unselected package libpango-1.0-0:amd64.\n",
            "Preparing to unpack .../16-libpango-1.0-0_1.40.12-1_amd64.deb ...\n",
            "Unpacking libpango-1.0-0:amd64 (1.40.12-1) ...\n",
            "Selecting previously unselected package libgraphite2-3:amd64.\n",
            "Preparing to unpack .../17-libgraphite2-3_1.3.10-2_amd64.deb ...\n",
            "Unpacking libgraphite2-3:amd64 (1.3.10-2) ...\n",
            "Selecting previously unselected package libharfbuzz0b:amd64.\n",
            "Preparing to unpack .../18-libharfbuzz0b_1.4.2-1_amd64.deb ...\n",
            "Unpacking libharfbuzz0b:amd64 (1.4.2-1) ...\n",
            "Selecting previously unselected package libpangoft2-1.0-0:amd64.\n",
            "Preparing to unpack .../19-libpangoft2-1.0-0_1.40.12-1_amd64.deb ...\n",
            "Unpacking libpangoft2-1.0-0:amd64 (1.40.12-1) ...\n",
            "Selecting previously unselected package libpangocairo-1.0-0:amd64.\n",
            "Preparing to unpack .../20-libpangocairo-1.0-0_1.40.12-1_amd64.deb ...\n",
            "Unpacking libpangocairo-1.0-0:amd64 (1.40.12-1) ...\n",
            "Selecting previously unselected package libpathplan4.\n",
            "Preparing to unpack .../21-libpathplan4_2.38.0-16ubuntu2_amd64.deb ...\n",
            "Unpacking libpathplan4 (2.38.0-16ubuntu2) ...\n",
            "Selecting previously unselected package libgvc6.\n",
            "Preparing to unpack .../22-libgvc6_2.38.0-16ubuntu2_amd64.deb ...\n",
            "Unpacking libgvc6 (2.38.0-16ubuntu2) ...\n",
            "Selecting previously unselected package libgvpr2.\n",
            "Preparing to unpack .../23-libgvpr2_2.38.0-16ubuntu2_amd64.deb ...\n",
            "Unpacking libgvpr2 (2.38.0-16ubuntu2) ...\n",
            "Selecting previously unselected package libxt6:amd64.\n",
            "Preparing to unpack .../24-libxt6_1%3a1.1.5-1_amd64.deb ...\n",
            "Unpacking libxt6:amd64 (1:1.1.5-1) ...\n",
            "Selecting previously unselected package libxmu6:amd64.\n",
            "Preparing to unpack .../25-libxmu6_2%3a1.1.2-2_amd64.deb ...\n",
            "Unpacking libxmu6:amd64 (2:1.1.2-2) ...\n",
            "Selecting previously unselected package libxaw7:amd64.\n",
            "Preparing to unpack .../26-libxaw7_2%3a1.0.13-1_amd64.deb ...\n",
            "Unpacking libxaw7:amd64 (2:1.0.13-1) ...\n",
            "Selecting previously unselected package graphviz.\n",
            "Preparing to unpack .../27-graphviz_2.38.0-16ubuntu2_amd64.deb ...\n",
            "Unpacking graphviz (2.38.0-16ubuntu2) ...\n",
            "Setting up libpathplan4 (2.38.0-16ubuntu2) ...\n",
            "Setting up libxcb-render0:amd64 (1.12-1ubuntu1) ...\n",
            "Setting up libjbig0:amd64 (2.1-3.1) ...\n",
            "Setting up libdatrie1:amd64 (0.2.10-5) ...\n",
            "Setting up libtiff5:amd64 (4.0.8-5ubuntu0.1) ...\n",
            "Setting up libgraphite2-3:amd64 (1.3.10-2) ...\n",
            "Setting up libpixman-1-0:amd64 (0.34.0-1) ...\n",
            "Processing triggers for libc-bin (2.26-0ubuntu2.1) ...\n",
            "Setting up libltdl7:amd64 (2.4.6-2) ...\n",
            "Setting up libxcb-shm0:amd64 (1.12-1ubuntu1) ...\n",
            "Setting up libxpm4:amd64 (1:3.5.12-1) ...\n",
            "Setting up libxt6:amd64 (1:1.1.5-1) ...\n",
            "Setting up libthai-data (0.1.26-3) ...\n",
            "Setting up libcdt5 (2.38.0-16ubuntu2) ...\n",
            "Setting up fontconfig (2.11.94-0ubuntu2) ...\n",
            "Regenerating fonts cache... done.\n",
            "Setting up libcgraph6 (2.38.0-16ubuntu2) ...\n",
            "Setting up libwebp6:amd64 (0.6.0-3) ...\n",
            "Setting up libcairo2:amd64 (1.14.10-1ubuntu1) ...\n",
            "Setting up libgvpr2 (2.38.0-16ubuntu2) ...\n",
            "Setting up libgd3:amd64 (2.2.5-3) ...\n",
            "Setting up libharfbuzz0b:amd64 (1.4.2-1) ...\n",
            "Setting up libthai0:amd64 (0.1.26-3) ...\n",
            "Setting up libxmu6:amd64 (2:1.1.2-2) ...\n",
            "Setting up libpango-1.0-0:amd64 (1.40.12-1) ...\n",
            "Setting up libxaw7:amd64 (2:1.0.13-1) ...\n",
            "Setting up libpangoft2-1.0-0:amd64 (1.40.12-1) ...\n",
            "Setting up libpangocairo-1.0-0:amd64 (1.40.12-1) ...\n",
            "Setting up libgvc6 (2.38.0-16ubuntu2) ...\n",
            "Setting up graphviz (2.38.0-16ubuntu2) ...\n",
            "Processing triggers for libc-bin (2.26-0ubuntu2.1) ...\n"
          ],
          "name": "stdout"
        }
      ]
    },
    {
      "metadata": {
        "id": "_0TMSTiV2wvJ",
        "colab_type": "text"
      },
      "cell_type": "markdown",
      "source": [
        "### Keras Libraries and Modules"
      ]
    },
    {
      "metadata": {
        "id": "iGs5kkPvBofe",
        "colab_type": "code",
        "colab": {
          "base_uri": "https://localhost:8080/",
          "height": 34
        },
        "outputId": "45377215-b5ef-43d1-f25f-4a99d5a39128"
      },
      "cell_type": "code",
      "source": [
        "import keras\n",
        "from keras.datasets import mnist\n",
        "from keras.models import Sequential, Model, load_model\n",
        "from keras.layers import Dense, Dropout, Flatten, Input, Lambda, Concatenate\n",
        "from keras.layers import Conv2D, MaxPooling2D, BatchNormalization\n",
        "from keras.callbacks import LearningRateScheduler\n",
        "from keras import backend as K\n",
        "from IPython.display import SVG\n",
        "from keras.utils.vis_utils import model_to_dot"
      ],
      "execution_count": 3,
      "outputs": [
        {
          "output_type": "stream",
          "text": [
            "Using TensorFlow backend.\n"
          ],
          "name": "stderr"
        }
      ]
    },
    {
      "metadata": {
        "id": "SI6T4P4I20yL",
        "colab_type": "text"
      },
      "cell_type": "markdown",
      "source": [
        "### Import dataset from Keras\n",
        "\n",
        "We create a combined dataset with test and training rows.  We will features in `model.fit` to create a validation dataset later in the exercise.\n",
        "\n",
        "Notice that the digits are 4D tensors.  The first dimension is the \"row\" or sample image index.  The next to dimensions are the spatial dimensions, x/y.  The last dimension is for color channels.  In this case, we have one color channels since the images are black and white."
      ]
    },
    {
      "metadata": {
        "id": "Hh_He4SKBs8w",
        "colab_type": "code",
        "colab": {
          "base_uri": "https://localhost:8080/",
          "height": 68
        },
        "outputId": "c933e5c1-ccd4-4d9e-9066-f62a4c94b045"
      },
      "cell_type": "code",
      "source": [
        "(x_train_, y_train_), (x_test_, y_test_) = mnist.load_data()\n",
        "X = np.vstack([x_train_,x_test_])[...,np.newaxis]\n",
        "y_ = np.hstack([y_train_,y_test_])\n",
        "train_ = np.hstack([y_train_*0+1,0*y_test_])\n",
        "label_coder = LabelBinarizer()\n",
        "\n",
        "label_coder.fit(y_)\n",
        "\n",
        "Y = label_coder.transform(y_)\n",
        "X.shape, Y.shape"
      ],
      "execution_count": 4,
      "outputs": [
        {
          "output_type": "stream",
          "text": [
            "Downloading data from https://s3.amazonaws.com/img-datasets/mnist.npz\n",
            "11493376/11490434 [==============================] - 3s 0us/step\n"
          ],
          "name": "stdout"
        },
        {
          "output_type": "execute_result",
          "data": {
            "text/plain": [
              "((70000, 28, 28, 1), (70000, 10))"
            ]
          },
          "metadata": {
            "tags": []
          },
          "execution_count": 4
        }
      ]
    },
    {
      "metadata": {
        "id": "qKJjtUap3c-J",
        "colab_type": "text"
      },
      "cell_type": "markdown",
      "source": [
        "### Plot a random row"
      ]
    },
    {
      "metadata": {
        "id": "wurDYsi2BvUH",
        "colab_type": "code",
        "colab": {
          "base_uri": "https://localhost:8080/",
          "height": 229
        },
        "outputId": "fb42d933-2286-4344-d401-d1fca1aad8d0"
      },
      "cell_type": "code",
      "source": [
        "ind = np.random.choice(range(X.shape[0]))\n",
        "plt.imshow(X[ind,...,0])"
      ],
      "execution_count": 11,
      "outputs": [
        {
          "output_type": "execute_result",
          "data": {
            "text/plain": [
              "<matplotlib.image.AxesImage at 0x7fa72e5ee6a0>"
            ]
          },
          "metadata": {
            "tags": []
          },
          "execution_count": 11
        },
        {
          "output_type": "display_data",
          "data": {
            "image/png": "[encoded data removed]",
            "text/plain": [
              "<matplotlib.figure.Figure at 0x7fa72e670b38>"
            ]
          },
          "metadata": {
            "tags": []
          }
        }
      ]
    },
    {
      "metadata": {
        "id": "TA7yEs1B38z1",
        "colab_type": "text"
      },
      "cell_type": "markdown",
      "source": [
        "### Check the histogram of labels"
      ]
    },
    {
      "metadata": {
        "id": "eeUcQoWXBw-h",
        "colab_type": "code",
        "colab": {
          "base_uri": "https://localhost:8080/",
          "height": 211
        },
        "outputId": "385675ab-6d51-485e-832d-cd1179806350"
      },
      "cell_type": "code",
      "source": [
        "plt.hist(y_);"
      ],
      "execution_count": 12,
      "outputs": [
        {
          "output_type": "display_data",
          "data": {
            "image/png": "[encoded data removed]",
            "text/plain": [
              "<matplotlib.figure.Figure at 0x7fa72e609438>"
            ]
          },
          "metadata": {
            "tags": []
          }
        }
      ]
    },
    {
      "metadata": {
        "id": "psqTTz774GC3",
        "colab_type": "text"
      },
      "cell_type": "markdown",
      "source": [
        "# Simple Fully Connected Model\n",
        "\n",
        "We start with a three-layer fully-connected ANN. \n",
        "\n",
        "We have a categorical classification problem which means that our network should classify the image as only of the ten classes (0-9).  Because of this, we need the output activation function to be `softmax`, which approximates a probability distribution where the output layer outputs all sum to 1."
      ]
    },
    {
      "metadata": {
        "id": "dQNDQxYeB9No",
        "colab_type": "code",
        "colab": {
          "base_uri": "https://localhost:8080/",
          "height": 306
        },
        "outputId": "8959d25a-21ea-4cd2-8a75-91142170af62"
      },
      "cell_type": "code",
      "source": [
        "input_ = Input((28,28,1))\n",
        "\n",
        "x = input_\n",
        "x = Flatten()(x)\n",
        "x = Dense(100,activation='relu')(x)\n",
        "x = Dense(100,activation='relu')(x)\n",
        "\n",
        "\n",
        "x = Dense(10, activation='softmax')(x)\n",
        "\n",
        "\n",
        "\n",
        "model = Model(input_, x)\n",
        "\n",
        "model.summary()"
      ],
      "execution_count": 27,
      "outputs": [
        {
          "output_type": "stream",
          "text": [
            "_________________________________________________________________\n",
            "Layer (type)                 Output Shape              Param #   \n",
            "=================================================================\n",
            "input_2 (InputLayer)         (None, 28, 28, 1)         0         \n",
            "_________________________________________________________________\n",
            "flatten_1 (Flatten)          (None, 784)               0         \n",
            "_________________________________________________________________\n",
            "dense_4 (Dense)              (None, 100)               78500     \n",
            "_________________________________________________________________\n",
            "dense_5 (Dense)              (None, 100)               10100     \n",
            "_________________________________________________________________\n",
            "dense_6 (Dense)              (None, 10)                1010      \n",
            "=================================================================\n",
            "Total params: 89,610\n",
            "Trainable params: 89,610\n",
            "Non-trainable params: 0\n",
            "_________________________________________________________________\n"
          ],
          "name": "stdout"
        }
      ]
    },
    {
      "metadata": {
        "id": "cHbGkOFW441J",
        "colab_type": "text"
      },
      "cell_type": "markdown",
      "source": [
        "### Check the model weights\n",
        "\n",
        "The model is initialized with random weights and can be executed before training.  Let's use Keras to examine the model weights.\n",
        "\n",
        "#### Model layers as a list"
      ]
    },
    {
      "metadata": {
        "id": "wqO1rBJ55HE6",
        "colab_type": "code",
        "colab": {
          "base_uri": "https://localhost:8080/",
          "height": 102
        },
        "outputId": "4e6a000b-6801-45a6-e787-299e8da77240"
      },
      "cell_type": "code",
      "source": [
        "model.layers"
      ],
      "execution_count": 28,
      "outputs": [
        {
          "output_type": "execute_result",
          "data": {
            "text/plain": [
              "[<keras.engine.topology.InputLayer at 0x7fa7041f5400>,\n",
              " <keras.layers.core.Flatten at 0x7fa7041f5748>,\n",
              " <keras.layers.core.Dense at 0x7fa70424fc88>,\n",
              " <keras.layers.core.Dense at 0x7fa70424fda0>,\n",
              " <keras.layers.core.Dense at 0x7fa7041f5550>]"
            ]
          },
          "metadata": {
            "tags": []
          },
          "execution_count": 28
        }
      ]
    },
    {
      "metadata": {
        "id": "Cyw4jIOn5nSQ",
        "colab_type": "text"
      },
      "cell_type": "markdown",
      "source": [
        "#### Model weights in the last layer\n",
        "\n",
        "Each layer has a NxM mapping matrix of weights and M bias values."
      ]
    },
    {
      "metadata": {
        "id": "r5URZxHO5MXZ",
        "colab_type": "code",
        "colab": {
          "base_uri": "https://localhost:8080/",
          "height": 51
        },
        "outputId": "ebb42646-0489-4705-a9b6-00208e7d018f"
      },
      "cell_type": "code",
      "source": [
        "model.layers[-1].weights"
      ],
      "execution_count": 29,
      "outputs": [
        {
          "output_type": "execute_result",
          "data": {
            "text/plain": [
              "[<tf.Variable 'dense_6/kernel:0' shape=(100, 10) dtype=float32_ref>,\n",
              " <tf.Variable 'dense_6/bias:0' shape=(10,) dtype=float32_ref>]"
            ]
          },
          "metadata": {
            "tags": []
          },
          "execution_count": 29
        }
      ]
    },
    {
      "metadata": {
        "id": "z59-oQ8750Z4",
        "colab_type": "text"
      },
      "cell_type": "markdown",
      "source": [
        "#### Use `K.eval` to view weight values"
      ]
    },
    {
      "metadata": {
        "id": "8Mk6pa415hLY",
        "colab_type": "code",
        "colab": {}
      },
      "cell_type": "code",
      "source": [
        "K.eval(model.layers[-1].weights[0])"
      ],
      "execution_count": 0,
      "outputs": []
    },
    {
      "metadata": {
        "id": "osC5VmoA57WB",
        "colab_type": "text"
      },
      "cell_type": "markdown",
      "source": [
        "#### Plot weights"
      ]
    },
    {
      "metadata": {
        "id": "eAT1gtpN5RPr",
        "colab_type": "code",
        "colab": {
          "base_uri": "https://localhost:8080/",
          "height": 231
        },
        "outputId": "617d46d1-57c8-4fdd-d6e5-2d55e4ba76d1"
      },
      "cell_type": "code",
      "source": [
        "plt.imshow(K.eval(model.layers[-1].weights[0]),aspect='auto')"
      ],
      "execution_count": 32,
      "outputs": [
        {
          "output_type": "execute_result",
          "data": {
            "text/plain": [
              "<matplotlib.image.AxesImage at 0x7fa7040a04a8>"
            ]
          },
          "metadata": {
            "tags": []
          },
          "execution_count": 32
        },
        {
          "output_type": "display_data",
          "data": {
            "image/png": "[encoded data removed]",
            "text/plain": [
              "<matplotlib.figure.Figure at 0x7fa704336ba8>"
            ]
          },
          "metadata": {
            "tags": []
          }
        }
      ]
    },
    {
      "metadata": {
        "id": "uuevEaSG6AHY",
        "colab_type": "text"
      },
      "cell_type": "markdown",
      "source": [
        "## We can also run the untrained model on the first two inputs"
      ]
    },
    {
      "metadata": {
        "id": "Aaj-WfynIhaM",
        "colab_type": "code",
        "colab": {
          "base_uri": "https://localhost:8080/",
          "height": 424
        },
        "outputId": "2ef3b2a4-82ec-48ef-cf38-768bf51a109f"
      },
      "cell_type": "code",
      "source": [
        "plt.imshow(X[0,...,0])\n",
        "plt.show()\n",
        "plt.imshow(X[1,...,0])\n",
        "activations = model.predict(X[:2,...])\n",
        "\n",
        "activations.shape"
      ],
      "execution_count": 37,
      "outputs": [
        {
          "output_type": "display_data",
          "data": {
            "image/png": "[encoded data removed]",
            "text/plain": [
              "<matplotlib.figure.Figure at 0x7fa7037d7908>"
            ]
          },
          "metadata": {
            "tags": []
          }
        },
        {
          "output_type": "execute_result",
          "data": {
            "text/plain": [
              "(2, 10)"
            ]
          },
          "metadata": {
            "tags": []
          },
          "execution_count": 37
        },
        {
          "output_type": "display_data",
          "data": {
            "image/png": "[encoded data removed]",
            "text/plain": [
              "<matplotlib.figure.Figure at 0x7fa703804470>"
            ]
          },
          "metadata": {
            "tags": []
          }
        }
      ]
    },
    {
      "metadata": {
        "id": "p8a3TvCn7SAl",
        "colab_type": "code",
        "colab": {
          "base_uri": "https://localhost:8080/",
          "height": 245
        },
        "outputId": "8248fde4-610b-4d08-f937-705e3926a7e7"
      },
      "cell_type": "code",
      "source": [
        "\n",
        "plt.plot(activations.T,'s')"
      ],
      "execution_count": 38,
      "outputs": [
        {
          "output_type": "execute_result",
          "data": {
            "text/plain": [
              "[<matplotlib.lines.Line2D at 0x7fa704310ac8>,\n",
              " <matplotlib.lines.Line2D at 0x7fa704310518>]"
            ]
          },
          "metadata": {
            "tags": []
          },
          "execution_count": 38
        },
        {
          "output_type": "display_data",
          "data": {
            "image/png": "[encoded data removed]",
            "text/plain": [
              "<matplotlib.figure.Figure at 0x7fa7037cbbe0>"
            ]
          },
          "metadata": {
            "tags": []
          }
        }
      ]
    },
    {
      "metadata": {
        "id": "tuHA7RKe7o7p",
        "colab_type": "text"
      },
      "cell_type": "markdown",
      "source": [
        "## Train It!"
      ]
    },
    {
      "metadata": {
        "id": "RBQmnazU7rDg",
        "colab_type": "code",
        "colab": {
          "base_uri": "https://localhost:8080/",
          "height": 374
        },
        "outputId": "39b600af-3ef1-42d0-f7a1-d14851db4d26"
      },
      "cell_type": "code",
      "source": [
        "model.compile(loss='categorical_crossentropy', optimizer=keras.optimizers.Adam(lr=.001),metrics=['accuracy'])\n",
        "model.fit(X,Y, batch_size=400, epochs=10)"
      ],
      "execution_count": 40,
      "outputs": [
        {
          "output_type": "stream",
          "text": [
            "Epoch 1/10\n",
            "70000/70000 [==============================] - 1s 20us/step - loss: 5.5436 - acc: 0.6542\n",
            "Epoch 2/10\n",
            "70000/70000 [==============================] - 1s 15us/step - loss: 5.5177 - acc: 0.6561\n",
            "Epoch 3/10\n",
            "70000/70000 [==============================] - 1s 17us/step - loss: 5.4817 - acc: 0.6586\n",
            "Epoch 4/10\n",
            "70000/70000 [==============================] - 1s 17us/step - loss: 5.4546 - acc: 0.6603\n",
            "Epoch 5/10\n",
            "70000/70000 [==============================] - 1s 17us/step - loss: 5.4329 - acc: 0.6616\n",
            "Epoch 6/10\n",
            "70000/70000 [==============================] - 1s 17us/step - loss: 5.4277 - acc: 0.6617\n",
            "Epoch 7/10\n",
            "70000/70000 [==============================] - 1s 17us/step - loss: 5.3861 - acc: 0.6646\n",
            "Epoch 8/10\n",
            "70000/70000 [==============================] - 1s 17us/step - loss: 5.4149 - acc: 0.6628\n",
            "Epoch 9/10\n",
            "50800/70000 [====================>.........] - ETA: 0s - loss: 5.3688 - acc: 0.6658"
          ],
          "name": "stdout"
        },
        {
          "output_type": "stream",
          "text": [
            "70000/70000 [==============================] - 1s 17us/step - loss: 5.3596 - acc: 0.6663\n",
            "Epoch 10/10\n",
            "70000/70000 [==============================] - 1s 17us/step - loss: 5.3753 - acc: 0.6651\n"
          ],
          "name": "stdout"
        },
        {
          "output_type": "execute_result",
          "data": {
            "text/plain": [
              "<keras.callbacks.History at 0x7fa7037722e8>"
            ]
          },
          "metadata": {
            "tags": []
          },
          "execution_count": 40
        }
      ]
    },
    {
      "metadata": {
        "id": "1fMl77n3761X",
        "colab_type": "text"
      },
      "cell_type": "markdown",
      "source": [
        "### Check Trained model activations"
      ]
    },
    {
      "metadata": {
        "id": "iH0_eidb7-BE",
        "colab_type": "code",
        "colab": {
          "base_uri": "https://localhost:8080/",
          "height": 829
        },
        "outputId": "e695ed17-c0ac-4c79-e1c0-f976ae62896d"
      },
      "cell_type": "code",
      "source": [
        "activations = model.predict(X, verbose=1)\n",
        "plt.imshow(X[0,...,0])\n",
        "plt.show()\n",
        "plt.plot(activations[0,:],'s')\n",
        "plt.show()\n",
        "plt.imshow(X[1,...,0])\n",
        "plt.show()\n",
        "plt.plot(activations[1,:],'s')"
      ],
      "execution_count": 65,
      "outputs": [
        {
          "output_type": "stream",
          "text": [
            "70000/70000 [==============================] - 3s 48us/step\n"
          ],
          "name": "stdout"
        },
        {
          "output_type": "display_data",
          "data": {
            "image/png": "[encoded data removed]",
            "text/plain": [
              "<matplotlib.figure.Figure at 0x7fa6e8490b70>"
            ]
          },
          "metadata": {
            "tags": []
          }
        },
        {
          "output_type": "display_data",
          "data": {
            "image/png": "[encoded data removed]",
            "text/plain": [
              "<matplotlib.figure.Figure at 0x7fa6e8921e10>"
            ]
          },
          "metadata": {
            "tags": []
          }
        },
        {
          "output_type": "display_data",
          "data": {
            "image/png": "[encoded data removed]",
            "text/plain": [
              "<matplotlib.figure.Figure at 0x7fa6e81e58d0>"
            ]
          },
          "metadata": {
            "tags": []
          }
        },
        {
          "output_type": "execute_result",
          "data": {
            "text/plain": [
              "[<matplotlib.lines.Line2D at 0x7fa6e81ae940>]"
            ]
          },
          "metadata": {
            "tags": []
          },
          "execution_count": 65
        },
        {
          "output_type": "display_data",
          "data": {
            "image/png": "[encoded data removed]",
            "text/plain": [
              "<matplotlib.figure.Figure at 0x7fa6e83fd5c0>"
            ]
          },
          "metadata": {
            "tags": []
          }
        }
      ]
    },
    {
      "metadata": {
        "id": "ZdzEikItC3j3",
        "colab_type": "code",
        "colab": {
          "base_uri": "https://localhost:8080/",
          "height": 742
        },
        "outputId": "f8bf67d2-5113-4bed-9c17-d94ee555fefe"
      },
      "cell_type": "code",
      "source": [
        "from sklearn.metrics import confusion_matrix\n",
        "import itertools\n",
        "def plot_confusion_matrix(y_test, y_pred, classes,\n",
        "                          normalize=False,\n",
        "                          title='Confusion matrix',\n",
        "                          cmap=plt.cm.Blues):\n",
        "    \"\"\"\n",
        "    This function prints and plots the confusion matrix.\n",
        "    Normalization can be applied by setting `normalize=True`.\n",
        "    \"\"\"\n",
        "    plt.rcParams['figure.figsize'] = (10.0, 10.0)\n",
        "    cm = confusion_matrix(y_test, y_pred,)\n",
        "    np.set_printoptions(precision=2)\n",
        "    if normalize:\n",
        "        cm = cm.astype('float') / cm.sum(axis=1)[:, np.newaxis]\n",
        "        print(\"Normalized confusion matrix\")\n",
        "    else:\n",
        "        print('Confusion matrix, without normalization')\n",
        "\n",
        "    # print(cm)\n",
        "\n",
        "    plt.imshow(cm, interpolation='nearest', cmap=cmap)\n",
        "    plt.title(title)\n",
        "    plt.colorbar()\n",
        "    tick_marks = np.arange(len(classes))\n",
        "    plt.xticks(tick_marks, classes, rotation=45)\n",
        "    plt.yticks(tick_marks, classes)\n",
        "\n",
        "    fmt = '.2f' if normalize else 'd'\n",
        "    thresh = cm.max() / 2.\n",
        "    for i, j in itertools.product(range(cm.shape[0]), range(cm.shape[1])):\n",
        "        plt.text(j, i, format(cm[i, j], fmt),\n",
        "                 horizontalalignment=\"center\",\n",
        "                 color=\"white\" if cm[i, j] > thresh else \"black\")\n",
        "\n",
        "    plt.tight_layout()\n",
        "    plt.ylabel('True label')\n",
        "    plt.xlabel('Predicted label')\n",
        "    \n",
        "    plt.rcParams['figure.figsize'] = (15.0, 3.0)\n",
        "\n",
        "\n",
        "plot_confusion_matrix(y_, label_coder.inverse_transform(activations), label_coder.classes_);"
      ],
      "execution_count": 64,
      "outputs": [
        {
          "output_type": "stream",
          "text": [
            "Confusion matrix, without normalization\n"
          ],
          "name": "stdout"
        },
        {
          "output_type": "display_data",
          "data": {
            "image/png": "[encoded data removed]",
            "text/plain": [
              "<matplotlib.figure.Figure at 0x7fa6e8247e80>"
            ]
          },
          "metadata": {
            "tags": []
          }
        }
      ]
    },
    {
      "metadata": {
        "id": "e_hLZpgM8vz5",
        "colab_type": "text"
      },
      "cell_type": "markdown",
      "source": [
        "# CNN Model\n",
        "\n",
        "65% accurcay is impressive for such a simple model, but it isn't really usable.  In order to make the next level of improvement, we need to use convolutional layers."
      ]
    },
    {
      "metadata": {
        "id": "PPV195REIJAP",
        "colab_type": "code",
        "colab": {
          "base_uri": "https://localhost:8080/",
          "height": 408
        },
        "outputId": "2eb71a0e-675c-4587-9f2e-62b5f3a1d8c7"
      },
      "cell_type": "code",
      "source": [
        "input_ = Input((28,28,1))\n",
        "\n",
        "x = Conv2D(32, (3,3), activation='relu')(input_)\n",
        "x = Conv2D(64, (3,3), activation='relu')(x)\n",
        "x = MaxPooling2D(pool_size=(2,2))(x)\n",
        "\n",
        "x = Flatten()(x)\n",
        "x = BatchNormalization()(x)\n",
        "x = Dense(100,activation='relu')(x)\n",
        "\n",
        "x = Dense(10, activation='softmax')(x)\n",
        "\n",
        "cnn_model = Model(input_, x)\n",
        "cnn_original_weights = cnn_model.get_weights()\n",
        "cnn_model.summary()"
      ],
      "execution_count": 76,
      "outputs": [
        {
          "output_type": "stream",
          "text": [
            "_________________________________________________________________\n",
            "Layer (type)                 Output Shape              Param #   \n",
            "=================================================================\n",
            "input_5 (InputLayer)         (None, 28, 28, 1)         0         \n",
            "_________________________________________________________________\n",
            "conv2d_5 (Conv2D)            (None, 26, 26, 32)        320       \n",
            "_________________________________________________________________\n",
            "conv2d_6 (Conv2D)            (None, 24, 24, 64)        18496     \n",
            "_________________________________________________________________\n",
            "max_pooling2d_3 (MaxPooling2 (None, 12, 12, 64)        0         \n",
            "_________________________________________________________________\n",
            "flatten_4 (Flatten)          (None, 9216)              0         \n",
            "_________________________________________________________________\n",
            "batch_normalization_3 (Batch (None, 9216)              36864     \n",
            "_________________________________________________________________\n",
            "dense_11 (Dense)             (None, 100)               921700    \n",
            "_________________________________________________________________\n",
            "dense_12 (Dense)             (None, 10)                1010      \n",
            "=================================================================\n",
            "Total params: 978,390\n",
            "Trainable params: 959,958\n",
            "Non-trainable params: 18,432\n",
            "_________________________________________________________________\n"
          ],
          "name": "stdout"
        }
      ]
    },
    {
      "metadata": {
        "id": "8vgwrtHE9bnj",
        "colab_type": "text"
      },
      "cell_type": "markdown",
      "source": [
        "### Examine the convolution kernel values\n",
        "\n",
        "Just as we did with the fully connected weight matrix, we can extract and visualize the weight matrix for the convolution kernals."
      ]
    },
    {
      "metadata": {
        "id": "OepMwEd0I47L",
        "colab_type": "code",
        "colab": {
          "base_uri": "https://localhost:8080/",
          "height": 34
        },
        "outputId": "2ef906f5-fb53-4d15-dc4a-cf5d8116b8a7"
      },
      "cell_type": "code",
      "source": [
        "kerns = K.eval(cnn_model.layers[1].weights[0])\n",
        "kerns.shape"
      ],
      "execution_count": 50,
      "outputs": [
        {
          "output_type": "execute_result",
          "data": {
            "text/plain": [
              "(3, 3, 1, 32)"
            ]
          },
          "metadata": {
            "tags": []
          },
          "execution_count": 50
        }
      ]
    },
    {
      "metadata": {
        "id": "hWnCcF19J-wW",
        "colab_type": "code",
        "colab": {
          "base_uri": "https://localhost:8080/",
          "height": 863
        },
        "outputId": "ef7cdb40-837f-42c3-b503-07f634f7d4d9"
      },
      "cell_type": "code",
      "source": [
        "plt.rcParams['figure.figsize'] = (15.0, 15.0)\n",
        "nrow = 8; ncol = 4;\n",
        "fig, axs = plt.subplots(nrows=nrow, ncols=ncol)\n",
        "\n",
        "k = 0\n",
        "for ax in axs.reshape(-1): \n",
        "    ax.imshow(kerns[:,:,0,k])\n",
        "    k += 1"
      ],
      "execution_count": 51,
      "outputs": [
        {
          "output_type": "display_data",
          "data": {
            "image/png": "[encoded data removed]",
            "text/plain": [
              "<matplotlib.figure.Figure at 0x7fa700c19780>"
            ]
          },
          "metadata": {
            "tags": []
          }
        }
      ]
    },
    {
      "metadata": {
        "id": "dh0U1ToU9zpp",
        "colab_type": "text"
      },
      "cell_type": "markdown",
      "source": [
        "### Plot Layer Flow\n",
        "\n",
        "We can also plot the layer flow as a SVG"
      ]
    },
    {
      "metadata": {
        "id": "ubLjKRswCSl-",
        "colab_type": "code",
        "colab": {
          "base_uri": "https://localhost:8080/",
          "height": 869
        },
        "outputId": "60cf88cf-9617-41a8-c001-11a2c64897ae"
      },
      "cell_type": "code",
      "source": [
        "SVG(model_to_dot(model,True,True).create(prog='dot', format='svg'))"
      ],
      "execution_count": 97,
      "outputs": [
        {
          "output_type": "execute_result",
          "data": {
            "text/plain": [
              "<IPython.core.display.SVG object>"
            ],
            "image/svg+xml": "<svg height=\"636pt\" viewBox=\"0.00 0.00 527.00 636.00\" width=\"527pt\" xmlns=\"http://www.w3.org/2000/svg\" xmlns:xlink=\"http://www.w3.org/1999/xlink\">\n<g class=\"graph\" id=\"graph0\" transform=\"scale(1 1) rotate(0) translate(4 632)\">\n<title>G</title>\n<polygon fill=\"white\" points=\"-4,4 -4,-632 523,-632 523,4 -4,4\" stroke=\"none\"/>\n<!-- 139649135020240 -->\n<g class=\"node\" id=\"node1\"><title>139649135020240</title>\n<polygon fill=\"none\" points=\"72.5,-581.5 72.5,-627.5 446.5,-627.5 446.5,-581.5 72.5,-581.5\" stroke=\"black\"/>\n<text font-family=\"Times,serif\" font-size=\"14.00\" text-anchor=\"middle\" x=\"157\" y=\"-600.8\">input_14: InputLayer</text>\n<polyline fill=\"none\" points=\"241.5,-581.5 241.5,-627.5 \" stroke=\"black\"/>\n<text font-family=\"Times,serif\" font-size=\"14.00\" text-anchor=\"middle\" x=\"275.5\" y=\"-612.3\">input:</text>\n<polyline fill=\"none\" points=\"241.5,-604.5 309.5,-604.5 \" stroke=\"black\"/>\n<text font-family=\"Times,serif\" font-size=\"14.00\" text-anchor=\"middle\" x=\"275.5\" y=\"-589.3\">output:</text>\n<polyline fill=\"none\" points=\"309.5,-581.5 309.5,-627.5 \" stroke=\"black\"/>\n<text font-family=\"Times,serif\" font-size=\"14.00\" text-anchor=\"middle\" x=\"378\" y=\"-612.3\">(None, 28, 28, 1)</text>\n<polyline fill=\"none\" points=\"309.5,-604.5 446.5,-604.5 \" stroke=\"black\"/>\n<text font-family=\"Times,serif\" font-size=\"14.00\" text-anchor=\"middle\" x=\"378\" y=\"-589.3\">(None, 28, 28, 1)</text>\n</g>\n<!-- 139649135019848 -->\n<g class=\"node\" id=\"node2\"><title>139649135019848</title>\n<polygon fill=\"none\" points=\"72.5,-498.5 72.5,-544.5 446.5,-544.5 446.5,-498.5 72.5,-498.5\" stroke=\"black\"/>\n<text font-family=\"Times,serif\" font-size=\"14.00\" text-anchor=\"middle\" x=\"152.5\" y=\"-517.8\">conv2d_27: Conv2D</text>\n<polyline fill=\"none\" points=\"232.5,-498.5 232.5,-544.5 \" stroke=\"black\"/>\n<text font-family=\"Times,serif\" font-size=\"14.00\" text-anchor=\"middle\" x=\"266.5\" y=\"-529.3\">input:</text>\n<polyline fill=\"none\" points=\"232.5,-521.5 300.5,-521.5 \" stroke=\"black\"/>\n<text font-family=\"Times,serif\" font-size=\"14.00\" text-anchor=\"middle\" x=\"266.5\" y=\"-506.3\">output:</text>\n<polyline fill=\"none\" points=\"300.5,-498.5 300.5,-544.5 \" stroke=\"black\"/>\n<text font-family=\"Times,serif\" font-size=\"14.00\" text-anchor=\"middle\" x=\"373.5\" y=\"-529.3\">(None, 28, 28, 1)</text>\n<polyline fill=\"none\" points=\"300.5,-521.5 446.5,-521.5 \" stroke=\"black\"/>\n<text font-family=\"Times,serif\" font-size=\"14.00\" text-anchor=\"middle\" x=\"373.5\" y=\"-506.3\">(None, 26, 26, 32)</text>\n</g>\n<!-- 139649135020240&#45;&gt;139649135019848 -->\n<g class=\"edge\" id=\"edge1\"><title>139649135020240-&gt;139649135019848</title>\n<path d=\"M259.5,-581.366C259.5,-573.152 259.5,-563.658 259.5,-554.725\" fill=\"none\" stroke=\"black\"/>\n<polygon fill=\"black\" points=\"263,-554.607 259.5,-544.607 256,-554.607 263,-554.607\" stroke=\"black\"/>\n</g>\n<!-- 139649135020352 -->\n<g class=\"node\" id=\"node3\"><title>139649135020352</title>\n<polygon fill=\"none\" points=\"72.5,-415.5 72.5,-461.5 446.5,-461.5 446.5,-415.5 72.5,-415.5\" stroke=\"black\"/>\n<text font-family=\"Times,serif\" font-size=\"14.00\" text-anchor=\"middle\" x=\"152.5\" y=\"-434.8\">conv2d_28: Conv2D</text>\n<polyline fill=\"none\" points=\"232.5,-415.5 232.5,-461.5 \" stroke=\"black\"/>\n<text font-family=\"Times,serif\" font-size=\"14.00\" text-anchor=\"middle\" x=\"266.5\" y=\"-446.3\">input:</text>\n<polyline fill=\"none\" points=\"232.5,-438.5 300.5,-438.5 \" stroke=\"black\"/>\n<text font-family=\"Times,serif\" font-size=\"14.00\" text-anchor=\"middle\" x=\"266.5\" y=\"-423.3\">output:</text>\n<polyline fill=\"none\" points=\"300.5,-415.5 300.5,-461.5 \" stroke=\"black\"/>\n<text font-family=\"Times,serif\" font-size=\"14.00\" text-anchor=\"middle\" x=\"373.5\" y=\"-446.3\">(None, 26, 26, 32)</text>\n<polyline fill=\"none\" points=\"300.5,-438.5 446.5,-438.5 \" stroke=\"black\"/>\n<text font-family=\"Times,serif\" font-size=\"14.00\" text-anchor=\"middle\" x=\"373.5\" y=\"-423.3\">(None, 24, 24, 64)</text>\n</g>\n<!-- 139649135019848&#45;&gt;139649135020352 -->\n<g class=\"edge\" id=\"edge2\"><title>139649135019848-&gt;139649135020352</title>\n<path d=\"M259.5,-498.366C259.5,-490.152 259.5,-480.658 259.5,-471.725\" fill=\"none\" stroke=\"black\"/>\n<polygon fill=\"black\" points=\"263,-471.607 259.5,-461.607 256,-471.607 263,-471.607\" stroke=\"black\"/>\n</g>\n<!-- 139649180669320 -->\n<g class=\"node\" id=\"node4\"><title>139649180669320</title>\n<polygon fill=\"none\" points=\"21,-332.5 21,-378.5 498,-378.5 498,-332.5 21,-332.5\" stroke=\"black\"/>\n<text font-family=\"Times,serif\" font-size=\"14.00\" text-anchor=\"middle\" x=\"152.5\" y=\"-351.8\">max_pooling2d_14: MaxPooling2D</text>\n<polyline fill=\"none\" points=\"284,-332.5 284,-378.5 \" stroke=\"black\"/>\n<text font-family=\"Times,serif\" font-size=\"14.00\" text-anchor=\"middle\" x=\"318\" y=\"-363.3\">input:</text>\n<polyline fill=\"none\" points=\"284,-355.5 352,-355.5 \" stroke=\"black\"/>\n<text font-family=\"Times,serif\" font-size=\"14.00\" text-anchor=\"middle\" x=\"318\" y=\"-340.3\">output:</text>\n<polyline fill=\"none\" points=\"352,-332.5 352,-378.5 \" stroke=\"black\"/>\n<text font-family=\"Times,serif\" font-size=\"14.00\" text-anchor=\"middle\" x=\"425\" y=\"-363.3\">(None, 24, 24, 64)</text>\n<polyline fill=\"none\" points=\"352,-355.5 498,-355.5 \" stroke=\"black\"/>\n<text font-family=\"Times,serif\" font-size=\"14.00\" text-anchor=\"middle\" x=\"425\" y=\"-340.3\">(None, 12, 12, 64)</text>\n</g>\n<!-- 139649135020352&#45;&gt;139649180669320 -->\n<g class=\"edge\" id=\"edge3\"><title>139649135020352-&gt;139649180669320</title>\n<path d=\"M259.5,-415.366C259.5,-407.152 259.5,-397.658 259.5,-388.725\" fill=\"none\" stroke=\"black\"/>\n<polygon fill=\"black\" points=\"263,-388.607 259.5,-378.607 256,-388.607 263,-388.607\" stroke=\"black\"/>\n</g>\n<!-- 139649263863680 -->\n<g class=\"node\" id=\"node5\"><title>139649263863680</title>\n<polygon fill=\"none\" points=\"77.5,-249.5 77.5,-295.5 441.5,-295.5 441.5,-249.5 77.5,-249.5\" stroke=\"black\"/>\n<text font-family=\"Times,serif\" font-size=\"14.00\" text-anchor=\"middle\" x=\"152.5\" y=\"-268.8\">flatten_20: Flatten</text>\n<polyline fill=\"none\" points=\"227.5,-249.5 227.5,-295.5 \" stroke=\"black\"/>\n<text font-family=\"Times,serif\" font-size=\"14.00\" text-anchor=\"middle\" x=\"261.5\" y=\"-280.3\">input:</text>\n<polyline fill=\"none\" points=\"227.5,-272.5 295.5,-272.5 \" stroke=\"black\"/>\n<text font-family=\"Times,serif\" font-size=\"14.00\" text-anchor=\"middle\" x=\"261.5\" y=\"-257.3\">output:</text>\n<polyline fill=\"none\" points=\"295.5,-249.5 295.5,-295.5 \" stroke=\"black\"/>\n<text font-family=\"Times,serif\" font-size=\"14.00\" text-anchor=\"middle\" x=\"368.5\" y=\"-280.3\">(None, 12, 12, 64)</text>\n<polyline fill=\"none\" points=\"295.5,-272.5 441.5,-272.5 \" stroke=\"black\"/>\n<text font-family=\"Times,serif\" font-size=\"14.00\" text-anchor=\"middle\" x=\"368.5\" y=\"-257.3\">(None, 9216)</text>\n</g>\n<!-- 139649180669320&#45;&gt;139649263863680 -->\n<g class=\"edge\" id=\"edge4\"><title>139649180669320-&gt;139649263863680</title>\n<path d=\"M259.5,-332.366C259.5,-324.152 259.5,-314.658 259.5,-305.725\" fill=\"none\" stroke=\"black\"/>\n<polygon fill=\"black\" points=\"263,-305.607 259.5,-295.607 256,-305.607 263,-305.607\" stroke=\"black\"/>\n</g>\n<!-- 139649263865248 -->\n<g class=\"node\" id=\"node6\"><title>139649263865248</title>\n<polygon fill=\"none\" points=\"0,-166.5 0,-212.5 519,-212.5 519,-166.5 0,-166.5\" stroke=\"black\"/>\n<text font-family=\"Times,serif\" font-size=\"14.00\" text-anchor=\"middle\" x=\"170.5\" y=\"-185.8\">batch_normalization_19: BatchNormalization</text>\n<polyline fill=\"none\" points=\"341,-166.5 341,-212.5 \" stroke=\"black\"/>\n<text font-family=\"Times,serif\" font-size=\"14.00\" text-anchor=\"middle\" x=\"375\" y=\"-197.3\">input:</text>\n<polyline fill=\"none\" points=\"341,-189.5 409,-189.5 \" stroke=\"black\"/>\n<text font-family=\"Times,serif\" font-size=\"14.00\" text-anchor=\"middle\" x=\"375\" y=\"-174.3\">output:</text>\n<polyline fill=\"none\" points=\"409,-166.5 409,-212.5 \" stroke=\"black\"/>\n<text font-family=\"Times,serif\" font-size=\"14.00\" text-anchor=\"middle\" x=\"464\" y=\"-197.3\">(None, 9216)</text>\n<polyline fill=\"none\" points=\"409,-189.5 519,-189.5 \" stroke=\"black\"/>\n<text font-family=\"Times,serif\" font-size=\"14.00\" text-anchor=\"middle\" x=\"464\" y=\"-174.3\">(None, 9216)</text>\n</g>\n<!-- 139649263863680&#45;&gt;139649263865248 -->\n<g class=\"edge\" id=\"edge5\"><title>139649263863680-&gt;139649263865248</title>\n<path d=\"M259.5,-249.366C259.5,-241.152 259.5,-231.658 259.5,-222.725\" fill=\"none\" stroke=\"black\"/>\n<polygon fill=\"black\" points=\"263,-222.607 259.5,-212.607 256,-222.607 263,-222.607\" stroke=\"black\"/>\n</g>\n<!-- 139649320070616 -->\n<g class=\"node\" id=\"node7\"><title>139649320070616</title>\n<polygon fill=\"none\" points=\"102,-83.5 102,-129.5 417,-129.5 417,-83.5 102,-83.5\" stroke=\"black\"/>\n<text font-family=\"Times,serif\" font-size=\"14.00\" text-anchor=\"middle\" x=\"170.5\" y=\"-102.8\">dense_31: Dense</text>\n<polyline fill=\"none\" points=\"239,-83.5 239,-129.5 \" stroke=\"black\"/>\n<text font-family=\"Times,serif\" font-size=\"14.00\" text-anchor=\"middle\" x=\"273\" y=\"-114.3\">input:</text>\n<polyline fill=\"none\" points=\"239,-106.5 307,-106.5 \" stroke=\"black\"/>\n<text font-family=\"Times,serif\" font-size=\"14.00\" text-anchor=\"middle\" x=\"273\" y=\"-91.3\">output:</text>\n<polyline fill=\"none\" points=\"307,-83.5 307,-129.5 \" stroke=\"black\"/>\n<text font-family=\"Times,serif\" font-size=\"14.00\" text-anchor=\"middle\" x=\"362\" y=\"-114.3\">(None, 9216)</text>\n<polyline fill=\"none\" points=\"307,-106.5 417,-106.5 \" stroke=\"black\"/>\n<text font-family=\"Times,serif\" font-size=\"14.00\" text-anchor=\"middle\" x=\"362\" y=\"-91.3\">(None, 100)</text>\n</g>\n<!-- 139649263865248&#45;&gt;139649320070616 -->\n<g class=\"edge\" id=\"edge6\"><title>139649263865248-&gt;139649320070616</title>\n<path d=\"M259.5,-166.366C259.5,-158.152 259.5,-148.658 259.5,-139.725\" fill=\"none\" stroke=\"black\"/>\n<polygon fill=\"black\" points=\"263,-139.607 259.5,-129.607 256,-139.607 263,-139.607\" stroke=\"black\"/>\n</g>\n<!-- 139649266023784 -->\n<g class=\"node\" id=\"node8\"><title>139649266023784</title>\n<polygon fill=\"none\" points=\"106.5,-0.5 106.5,-46.5 412.5,-46.5 412.5,-0.5 106.5,-0.5\" stroke=\"black\"/>\n<text font-family=\"Times,serif\" font-size=\"14.00\" text-anchor=\"middle\" x=\"175\" y=\"-19.8\">dense_32: Dense</text>\n<polyline fill=\"none\" points=\"243.5,-0.5 243.5,-46.5 \" stroke=\"black\"/>\n<text font-family=\"Times,serif\" font-size=\"14.00\" text-anchor=\"middle\" x=\"277.5\" y=\"-31.3\">input:</text>\n<polyline fill=\"none\" points=\"243.5,-23.5 311.5,-23.5 \" stroke=\"black\"/>\n<text font-family=\"Times,serif\" font-size=\"14.00\" text-anchor=\"middle\" x=\"277.5\" y=\"-8.3\">output:</text>\n<polyline fill=\"none\" points=\"311.5,-0.5 311.5,-46.5 \" stroke=\"black\"/>\n<text font-family=\"Times,serif\" font-size=\"14.00\" text-anchor=\"middle\" x=\"362\" y=\"-31.3\">(None, 100)</text>\n<polyline fill=\"none\" points=\"311.5,-23.5 412.5,-23.5 \" stroke=\"black\"/>\n<text font-family=\"Times,serif\" font-size=\"14.00\" text-anchor=\"middle\" x=\"362\" y=\"-8.3\">(None, 10)</text>\n</g>\n<!-- 139649320070616&#45;&gt;139649266023784 -->\n<g class=\"edge\" id=\"edge7\"><title>139649320070616-&gt;139649266023784</title>\n<path d=\"M259.5,-83.3664C259.5,-75.1516 259.5,-65.6579 259.5,-56.7252\" fill=\"none\" stroke=\"black\"/>\n<polygon fill=\"black\" points=\"263,-56.6068 259.5,-46.6068 256,-56.6069 263,-56.6068\" stroke=\"black\"/>\n</g>\n</g>\n</svg>"
          },
          "metadata": {
            "tags": []
          },
          "execution_count": 97
        }
      ]
    },
    {
      "metadata": {
        "id": "efb2BhFd9_Dh",
        "colab_type": "text"
      },
      "cell_type": "markdown",
      "source": [
        "## Fit the CNN Model"
      ]
    },
    {
      "metadata": {
        "id": "nqZzXvWWCXKC",
        "colab_type": "code",
        "colab": {}
      },
      "cell_type": "code",
      "source": [
        "cnn_model.compile(loss='categorical_crossentropy', \n",
        "                  optimizer=keras.optimizers.Adam(lr=.001),\n",
        "                  metrics=['accuracy'])\n",
        "cnn_model.fit(X,Y, batch_size=400, epochs=4)"
      ],
      "execution_count": 0,
      "outputs": []
    },
    {
      "metadata": {
        "id": "joscyFZqAAkT",
        "colab_type": "text"
      },
      "cell_type": "markdown",
      "source": [
        "### Predict Model Output\n"
      ]
    },
    {
      "metadata": {
        "id": "_1-vBrdyOqSU",
        "colab_type": "code",
        "colab": {
          "base_uri": "https://localhost:8080/",
          "height": 34
        },
        "outputId": "264a39b1-4c7c-4002-b414-854075819a73"
      },
      "cell_type": "code",
      "source": [
        "y_hat = cnn_model.predict(X,batch_size=400, verbose=1)"
      ],
      "execution_count": 69,
      "outputs": [
        {
          "output_type": "stream",
          "text": [
            "70000/70000 [==============================] - 3s 41us/step\n"
          ],
          "name": "stdout"
        }
      ]
    },
    {
      "metadata": {
        "id": "AqyaGEwHAw02",
        "colab_type": "text"
      },
      "cell_type": "markdown",
      "source": [
        "### Plot Model Performance"
      ]
    },
    {
      "metadata": {
        "id": "-BFcYdkmA2Wf",
        "colab_type": "code",
        "colab": {
          "base_uri": "https://localhost:8080/",
          "height": 742
        },
        "outputId": "017536e5-dfec-4e59-ee37-09ee22329916"
      },
      "cell_type": "code",
      "source": [
        "plot_confusion_matrix(y_, label_coder.inverse_transform(y_hat), label_coder.classes_);"
      ],
      "execution_count": 70,
      "outputs": [
        {
          "output_type": "stream",
          "text": [
            "Confusion matrix, without normalization\n"
          ],
          "name": "stdout"
        },
        {
          "output_type": "display_data",
          "data": {
            "image/png": "[encoded data removed]",
            "text/plain": [
              "<matplotlib.figure.Figure at 0x7fa6e84b09e8>"
            ]
          },
          "metadata": {
            "tags": []
          }
        }
      ]
    },
    {
      "metadata": {
        "id": "B1e7I7cFBEuT",
        "colab_type": "text"
      },
      "cell_type": "markdown",
      "source": [
        "# Callbacks\n",
        "\n",
        "Keras has a convenient mechanism for taking actions in between epochs called \"callbacks\".  See https://keras.io/callbacks/ for details.\n",
        "\n",
        "### Learning rate schedule\n",
        "We are going to define a `LearningRateScheduler` callback, which will adjust the learning rate as we progress through epochs."
      ]
    },
    {
      "metadata": {
        "id": "K9D1ThdwTrwC",
        "colab_type": "code",
        "colab": {}
      },
      "cell_type": "code",
      "source": [
        "def lrs(epoch):\n",
        "    print(f'epoch = {epoch}')\n",
        "    lr = 0.001**(1+epoch/10)\n",
        "    print(f'lr = {lr}')\n",
        "    return lr\n",
        "\n",
        "calls = [LearningRateScheduler(lrs)]"
      ],
      "execution_count": 0,
      "outputs": []
    },
    {
      "metadata": {
        "id": "8ihdJFMhBycM",
        "colab_type": "text"
      },
      "cell_type": "markdown",
      "source": [
        "## Now retrain with this callback"
      ]
    },
    {
      "metadata": {
        "id": "oeu4y8E5B9er",
        "colab_type": "code",
        "colab": {
          "base_uri": "https://localhost:8080/",
          "height": 343
        },
        "outputId": "c6911cbb-575d-45e0-8e03-71dcb7c8721f"
      },
      "cell_type": "code",
      "source": [
        "cnn_model.set_weights(cnn_original_weights) # reset model\n",
        "cnn_model.compile(loss='categorical_crossentropy', \n",
        "                  optimizer=keras.optimizers.Adam(lr=.001),\n",
        "                  metrics=['accuracy'])\n",
        "cnn_model.fit(X,Y, \n",
        "              batch_size=400, \n",
        "              epochs=4,\n",
        "              validation_split=.05,\n",
        "              callbacks=calls)"
      ],
      "execution_count": 78,
      "outputs": [
        {
          "output_type": "stream",
          "text": [
            "Train on 66500 samples, validate on 3500 samples\n",
            "Epoch 1/4\n",
            "epoch = 0\n",
            "lr = 0.001\n",
            "66500/66500 [==============================] - 9s 129us/step - loss: 0.1601 - acc: 0.9586 - val_loss: 0.0731 - val_acc: 0.9829\n",
            "Epoch 2/4\n",
            "epoch = 1\n",
            "lr = 0.000501187233627272\n",
            "66500/66500 [==============================] - 7s 109us/step - loss: 0.0263 - acc: 0.9917 - val_loss: 0.0551 - val_acc: 0.9860\n",
            "Epoch 3/4\n",
            "epoch = 2\n",
            "lr = 0.0002511886431509581\n",
            "66500/66500 [==============================] - 7s 109us/step - loss: 0.0073 - acc: 0.9979 - val_loss: 0.0221 - val_acc: 0.9943\n",
            "Epoch 4/4\n",
            "epoch = 3\n",
            "lr = 0.0001258925411794167\n",
            "14800/66500 [=====>........................] - ETA: 5s - loss: 0.0028 - acc: 0.9997"
          ],
          "name": "stdout"
        },
        {
          "output_type": "stream",
          "text": [
            "66500/66500 [==============================] - 7s 109us/step - loss: 0.0029 - acc: 0.9996 - val_loss: 0.0226 - val_acc: 0.9940\n"
          ],
          "name": "stdout"
        },
        {
          "output_type": "execute_result",
          "data": {
            "text/plain": [
              "<keras.callbacks.History at 0x7fa6e19cedd8>"
            ]
          },
          "metadata": {
            "tags": []
          },
          "execution_count": 78
        }
      ]
    },
    {
      "metadata": {
        "id": "tIXWDYKmC64r",
        "colab_type": "text"
      },
      "cell_type": "markdown",
      "source": [
        "## We can also callback to tensorboard\n",
        "\n",
        "To set this up on colab, I followed the instructions at https://www.dlology.com/blog/quick-guide-to-run-tensorboard-in-google-colab/\n",
        "\n",
        "These instructions start tensorboard on this machine and tunnel to the tensorboard port so that we can hit the address externally."
      ]
    },
    {
      "metadata": {
        "id": "zP7LRBZ3-403",
        "colab_type": "code",
        "colab": {
          "base_uri": "https://localhost:8080/",
          "height": 323
        },
        "outputId": "263e020f-9c08-490e-9786-f4ed99ce3d11"
      },
      "cell_type": "code",
      "source": [
        "LOG_DIR = './log'\n",
        "! rm -rf $LOG_DIR\n",
        "\n",
        "get_ipython().system_raw(\n",
        "    'tensorboard --logdir {} --host 0.0.0.0 --port 6006 &'\n",
        "    .format(LOG_DIR)\n",
        ")\n",
        "# Install\n",
        "! npm install -g localtunnel\n",
        "\n",
        "# Tunnel port 6006 (TensorBoard assumed running)\n",
        "get_ipython().system_raw('lt --port 6006 >> url.txt 2>&1 &')\n",
        "\n",
        "# Get url\n",
        "! cat url.txt"
      ],
      "execution_count": 87,
      "outputs": [
        {
          "output_type": "stream",
          "text": [
            "\u001b[K\u001b[?25h/tools/node/bin/lt -> /tools/node/lib/node_modules/localtunnel/bin/client\n",
            "+ localtunnel@1.9.0\n",
            "updated 1 package in 1.058s\n",
            "your url is: https://wet-deer-73.localtunnel.me\n",
            "your url is: https://smooth-ape-43.localtunnel.me\n",
            "your url is: https://itchy-goose-35.localtunnel.me\n",
            "/tools/node/lib/node_modules/localtunnel/bin/client:65\n",
            "        throw err;\n",
            "        ^\n",
            "\n",
            "Error: connection refused: localtunnel.me:43556 (check your firewall settings)\n",
            "    at Socket.<anonymous> (/tools/node/lib/node_modules/localtunnel/lib/TunnelCluster.js:47:32)\n",
            "    at emitOne (events.js:116:13)\n",
            "    at Socket.emit (events.js:211:7)\n",
            "    at emitErrorNT (internal/streams/destroy.js:64:8)\n",
            "    at _combinedTickCallback (internal/process/next_tick.js:138:11)\n",
            "    at process._tickCallback (internal/process/next_tick.js:180:9)\n",
            "your url is: https://curly-sheep-62.localtunnel.me\n"
          ],
          "name": "stdout"
        }
      ]
    },
    {
      "metadata": {
        "id": "GSB1VR7F-5Jh",
        "colab_type": "code",
        "colab": {
          "base_uri": "https://localhost:8080/",
          "height": 2666
        },
        "outputId": "33d56e51-e8c1-466d-da06-8c8c6762efd0"
      },
      "cell_type": "code",
      "source": [
        "from keras.callbacks import TensorBoard\n",
        "cnn_model.set_weights(cnn_original_weights) # reset model\n",
        "\n",
        "cnn_model.compile(loss='categorical_crossentropy', \n",
        "                  optimizer=keras.optimizers.Adam(lr=.001),\n",
        "                  metrics=['accuracy'])\n",
        "\n",
        "\n",
        "tbCallBack = TensorBoard(log_dir='./log/cnn_model/', histogram_freq=1,\n",
        "                         write_graph=True,\n",
        "                         write_grads=True,\n",
        "                         batch_size=400,\n",
        "                         write_images=True)\n",
        "\n",
        "cnn_model.fit(X,Y, \n",
        "              batch_size=400, \n",
        "              epochs=4,\n",
        "              validation_split=.05,\n",
        "              callbacks=[tbCallBack, LearningRateScheduler(lrs)])"
      ],
      "execution_count": 88,
      "outputs": [
        {
          "output_type": "stream",
          "text": [
            "Train on 66500 samples, validate on 3500 samples\n",
            "Epoch 1/4\n",
            "epoch = 0\n",
            "lr = 0.001\n",
            "66500/66500 [==============================] - 10s 155us/step - loss: 0.1560 - acc: 0.9589 - val_loss: 0.0824 - val_acc: 0.9754\n"
          ],
          "name": "stdout"
        },
        {
          "output_type": "error",
          "ename": "InvalidArgumentError",
          "evalue": "ignored",
          "traceback": [
            "\u001b[0;31m---------------------------------------------------------------------------\u001b[0m",
            "\u001b[0;31mInvalidArgumentError\u001b[0m                      Traceback (most recent call last)",
            "\u001b[0;32m/usr/local/lib/python3.6/dist-packages/tensorflow/python/client/session.py\u001b[0m in \u001b[0;36m_do_call\u001b[0;34m(self, fn, *args)\u001b[0m\n\u001b[1;32m   1321\u001b[0m     \u001b[0;32mtry\u001b[0m\u001b[0;34m:\u001b[0m\u001b[0;34m\u001b[0m\u001b[0m\n\u001b[0;32m-> 1322\u001b[0;31m       \u001b[0;32mreturn\u001b[0m \u001b[0mfn\u001b[0m\u001b[0;34m(\u001b[0m\u001b[0;34m*\u001b[0m\u001b[0margs\u001b[0m\u001b[0;34m)\u001b[0m\u001b[0;34m\u001b[0m\u001b[0m\n\u001b[0m\u001b[1;32m   1323\u001b[0m     \u001b[0;32mexcept\u001b[0m \u001b[0merrors\u001b[0m\u001b[0;34m.\u001b[0m\u001b[0mOpError\u001b[0m \u001b[0;32mas\u001b[0m \u001b[0me\u001b[0m\u001b[0;34m:\u001b[0m\u001b[0;34m\u001b[0m\u001b[0m\n",
            "\u001b[0;32m/usr/local/lib/python3.6/dist-packages/tensorflow/python/client/session.py\u001b[0m in \u001b[0;36m_run_fn\u001b[0;34m(feed_dict, fetch_list, target_list, options, run_metadata)\u001b[0m\n\u001b[1;32m   1306\u001b[0m       return self._call_tf_sessionrun(\n\u001b[0;32m-> 1307\u001b[0;31m           options, feed_dict, fetch_list, target_list, run_metadata)\n\u001b[0m\u001b[1;32m   1308\u001b[0m \u001b[0;34m\u001b[0m\u001b[0m\n",
            "\u001b[0;32m/usr/local/lib/python3.6/dist-packages/tensorflow/python/client/session.py\u001b[0m in \u001b[0;36m_call_tf_sessionrun\u001b[0;34m(self, options, feed_dict, fetch_list, target_list, run_metadata)\u001b[0m\n\u001b[1;32m   1408\u001b[0m           \u001b[0mself\u001b[0m\u001b[0;34m.\u001b[0m\u001b[0m_session\u001b[0m\u001b[0;34m,\u001b[0m \u001b[0moptions\u001b[0m\u001b[0;34m,\u001b[0m \u001b[0mfeed_dict\u001b[0m\u001b[0;34m,\u001b[0m \u001b[0mfetch_list\u001b[0m\u001b[0;34m,\u001b[0m \u001b[0mtarget_list\u001b[0m\u001b[0;34m,\u001b[0m\u001b[0;34m\u001b[0m\u001b[0m\n\u001b[0;32m-> 1409\u001b[0;31m           run_metadata)\n\u001b[0m\u001b[1;32m   1410\u001b[0m     \u001b[0;32melse\u001b[0m\u001b[0;34m:\u001b[0m\u001b[0;34m\u001b[0m\u001b[0m\n",
            "\u001b[0;31mInvalidArgumentError\u001b[0m: You must feed a value for placeholder tensor 'dense_6_sample_weights_2' with dtype float and shape [?]\n\t [[Node: dense_6_sample_weights_2 = Placeholder[dtype=DT_FLOAT, shape=[?], _device=\"/job:localhost/replica:0/task:0/device:GPU:0\"]()]]",
            "\nDuring handling of the above exception, another exception occurred:\n",
            "\u001b[0;31mInvalidArgumentError\u001b[0m                      Traceback (most recent call last)",
            "\u001b[0;32m<ipython-input-88-35b7a8ea1564>\u001b[0m in \u001b[0;36m<module>\u001b[0;34m()\u001b[0m\n\u001b[1;32m     17\u001b[0m               \u001b[0mepochs\u001b[0m\u001b[0;34m=\u001b[0m\u001b[0;36m4\u001b[0m\u001b[0;34m,\u001b[0m\u001b[0;34m\u001b[0m\u001b[0m\n\u001b[1;32m     18\u001b[0m               \u001b[0mvalidation_split\u001b[0m\u001b[0;34m=\u001b[0m\u001b[0;36m.05\u001b[0m\u001b[0;34m,\u001b[0m\u001b[0;34m\u001b[0m\u001b[0m\n\u001b[0;32m---> 19\u001b[0;31m               callbacks=[tbCallBack, LearningRateScheduler(lrs)])\n\u001b[0m",
            "\u001b[0;32m/usr/local/lib/python3.6/dist-packages/keras/engine/training.py\u001b[0m in \u001b[0;36mfit\u001b[0;34m(self, x, y, batch_size, epochs, verbose, callbacks, validation_split, validation_data, shuffle, class_weight, sample_weight, initial_epoch, steps_per_epoch, validation_steps, **kwargs)\u001b[0m\n\u001b[1;32m   1703\u001b[0m                               \u001b[0minitial_epoch\u001b[0m\u001b[0;34m=\u001b[0m\u001b[0minitial_epoch\u001b[0m\u001b[0;34m,\u001b[0m\u001b[0;34m\u001b[0m\u001b[0m\n\u001b[1;32m   1704\u001b[0m                               \u001b[0msteps_per_epoch\u001b[0m\u001b[0;34m=\u001b[0m\u001b[0msteps_per_epoch\u001b[0m\u001b[0;34m,\u001b[0m\u001b[0;34m\u001b[0m\u001b[0m\n\u001b[0;32m-> 1705\u001b[0;31m                               validation_steps=validation_steps)\n\u001b[0m\u001b[1;32m   1706\u001b[0m \u001b[0;34m\u001b[0m\u001b[0m\n\u001b[1;32m   1707\u001b[0m     def evaluate(self, x=None, y=None,\n",
            "\u001b[0;32m/usr/local/lib/python3.6/dist-packages/keras/engine/training.py\u001b[0m in \u001b[0;36m_fit_loop\u001b[0;34m(self, f, ins, out_labels, batch_size, epochs, verbose, callbacks, val_f, val_ins, shuffle, callback_metrics, initial_epoch, steps_per_epoch, validation_steps)\u001b[0m\n\u001b[1;32m   1254\u001b[0m                             \u001b[0;32mfor\u001b[0m \u001b[0ml\u001b[0m\u001b[0;34m,\u001b[0m \u001b[0mo\u001b[0m \u001b[0;32min\u001b[0m \u001b[0mzip\u001b[0m\u001b[0;34m(\u001b[0m\u001b[0mout_labels\u001b[0m\u001b[0;34m,\u001b[0m \u001b[0mval_outs\u001b[0m\u001b[0;34m)\u001b[0m\u001b[0;34m:\u001b[0m\u001b[0;34m\u001b[0m\u001b[0m\n\u001b[1;32m   1255\u001b[0m                                 \u001b[0mepoch_logs\u001b[0m\u001b[0;34m[\u001b[0m\u001b[0;34m'val_'\u001b[0m \u001b[0;34m+\u001b[0m \u001b[0ml\u001b[0m\u001b[0;34m]\u001b[0m \u001b[0;34m=\u001b[0m \u001b[0mo\u001b[0m\u001b[0;34m\u001b[0m\u001b[0m\n\u001b[0;32m-> 1256\u001b[0;31m             \u001b[0mcallbacks\u001b[0m\u001b[0;34m.\u001b[0m\u001b[0mon_epoch_end\u001b[0m\u001b[0;34m(\u001b[0m\u001b[0mepoch\u001b[0m\u001b[0;34m,\u001b[0m \u001b[0mepoch_logs\u001b[0m\u001b[0;34m)\u001b[0m\u001b[0;34m\u001b[0m\u001b[0m\n\u001b[0m\u001b[1;32m   1257\u001b[0m             \u001b[0;32mif\u001b[0m \u001b[0mcallback_model\u001b[0m\u001b[0;34m.\u001b[0m\u001b[0mstop_training\u001b[0m\u001b[0;34m:\u001b[0m\u001b[0;34m\u001b[0m\u001b[0m\n\u001b[1;32m   1258\u001b[0m                 \u001b[0;32mbreak\u001b[0m\u001b[0;34m\u001b[0m\u001b[0m\n",
            "\u001b[0;32m/usr/local/lib/python3.6/dist-packages/keras/callbacks.py\u001b[0m in \u001b[0;36mon_epoch_end\u001b[0;34m(self, epoch, logs)\u001b[0m\n\u001b[1;32m     75\u001b[0m         \u001b[0mlogs\u001b[0m \u001b[0;34m=\u001b[0m \u001b[0mlogs\u001b[0m \u001b[0;32mor\u001b[0m \u001b[0;34m{\u001b[0m\u001b[0;34m}\u001b[0m\u001b[0;34m\u001b[0m\u001b[0m\n\u001b[1;32m     76\u001b[0m         \u001b[0;32mfor\u001b[0m \u001b[0mcallback\u001b[0m \u001b[0;32min\u001b[0m \u001b[0mself\u001b[0m\u001b[0;34m.\u001b[0m\u001b[0mcallbacks\u001b[0m\u001b[0;34m:\u001b[0m\u001b[0;34m\u001b[0m\u001b[0m\n\u001b[0;32m---> 77\u001b[0;31m             \u001b[0mcallback\u001b[0m\u001b[0;34m.\u001b[0m\u001b[0mon_epoch_end\u001b[0m\u001b[0;34m(\u001b[0m\u001b[0mepoch\u001b[0m\u001b[0;34m,\u001b[0m \u001b[0mlogs\u001b[0m\u001b[0;34m)\u001b[0m\u001b[0;34m\u001b[0m\u001b[0m\n\u001b[0m\u001b[1;32m     78\u001b[0m \u001b[0;34m\u001b[0m\u001b[0m\n\u001b[1;32m     79\u001b[0m     \u001b[0;32mdef\u001b[0m \u001b[0mon_batch_begin\u001b[0m\u001b[0;34m(\u001b[0m\u001b[0mself\u001b[0m\u001b[0;34m,\u001b[0m \u001b[0mbatch\u001b[0m\u001b[0;34m,\u001b[0m \u001b[0mlogs\u001b[0m\u001b[0;34m=\u001b[0m\u001b[0;32mNone\u001b[0m\u001b[0;34m)\u001b[0m\u001b[0;34m:\u001b[0m\u001b[0;34m\u001b[0m\u001b[0m\n",
            "\u001b[0;32m/usr/local/lib/python3.6/dist-packages/keras/callbacks.py\u001b[0m in \u001b[0;36mon_epoch_end\u001b[0;34m(self, epoch, logs)\u001b[0m\n\u001b[1;32m    853\u001b[0m                     \u001b[0;32massert\u001b[0m \u001b[0mlen\u001b[0m\u001b[0;34m(\u001b[0m\u001b[0mbatch_val\u001b[0m\u001b[0;34m)\u001b[0m \u001b[0;34m==\u001b[0m \u001b[0mlen\u001b[0m\u001b[0;34m(\u001b[0m\u001b[0mtensors\u001b[0m\u001b[0;34m)\u001b[0m\u001b[0;34m\u001b[0m\u001b[0m\n\u001b[1;32m    854\u001b[0m                     \u001b[0mfeed_dict\u001b[0m \u001b[0;34m=\u001b[0m \u001b[0mdict\u001b[0m\u001b[0;34m(\u001b[0m\u001b[0mzip\u001b[0m\u001b[0;34m(\u001b[0m\u001b[0mtensors\u001b[0m\u001b[0;34m,\u001b[0m \u001b[0mbatch_val\u001b[0m\u001b[0;34m)\u001b[0m\u001b[0;34m)\u001b[0m\u001b[0;34m\u001b[0m\u001b[0m\n\u001b[0;32m--> 855\u001b[0;31m                     \u001b[0mresult\u001b[0m \u001b[0;34m=\u001b[0m \u001b[0mself\u001b[0m\u001b[0;34m.\u001b[0m\u001b[0msess\u001b[0m\u001b[0;34m.\u001b[0m\u001b[0mrun\u001b[0m\u001b[0;34m(\u001b[0m\u001b[0;34m[\u001b[0m\u001b[0mself\u001b[0m\u001b[0;34m.\u001b[0m\u001b[0mmerged\u001b[0m\u001b[0;34m]\u001b[0m\u001b[0;34m,\u001b[0m \u001b[0mfeed_dict\u001b[0m\u001b[0;34m=\u001b[0m\u001b[0mfeed_dict\u001b[0m\u001b[0;34m)\u001b[0m\u001b[0;34m\u001b[0m\u001b[0m\n\u001b[0m\u001b[1;32m    856\u001b[0m                     \u001b[0msummary_str\u001b[0m \u001b[0;34m=\u001b[0m \u001b[0mresult\u001b[0m\u001b[0;34m[\u001b[0m\u001b[0;36m0\u001b[0m\u001b[0;34m]\u001b[0m\u001b[0;34m\u001b[0m\u001b[0m\n\u001b[1;32m    857\u001b[0m                     \u001b[0mself\u001b[0m\u001b[0;34m.\u001b[0m\u001b[0mwriter\u001b[0m\u001b[0;34m.\u001b[0m\u001b[0madd_summary\u001b[0m\u001b[0;34m(\u001b[0m\u001b[0msummary_str\u001b[0m\u001b[0;34m,\u001b[0m \u001b[0mepoch\u001b[0m\u001b[0;34m)\u001b[0m\u001b[0;34m\u001b[0m\u001b[0m\n",
            "\u001b[0;32m/usr/local/lib/python3.6/dist-packages/tensorflow/python/client/session.py\u001b[0m in \u001b[0;36mrun\u001b[0;34m(self, fetches, feed_dict, options, run_metadata)\u001b[0m\n\u001b[1;32m    898\u001b[0m     \u001b[0;32mtry\u001b[0m\u001b[0;34m:\u001b[0m\u001b[0;34m\u001b[0m\u001b[0m\n\u001b[1;32m    899\u001b[0m       result = self._run(None, fetches, feed_dict, options_ptr,\n\u001b[0;32m--> 900\u001b[0;31m                          run_metadata_ptr)\n\u001b[0m\u001b[1;32m    901\u001b[0m       \u001b[0;32mif\u001b[0m \u001b[0mrun_metadata\u001b[0m\u001b[0;34m:\u001b[0m\u001b[0;34m\u001b[0m\u001b[0m\n\u001b[1;32m    902\u001b[0m         \u001b[0mproto_data\u001b[0m \u001b[0;34m=\u001b[0m \u001b[0mtf_session\u001b[0m\u001b[0;34m.\u001b[0m\u001b[0mTF_GetBuffer\u001b[0m\u001b[0;34m(\u001b[0m\u001b[0mrun_metadata_ptr\u001b[0m\u001b[0;34m)\u001b[0m\u001b[0;34m\u001b[0m\u001b[0m\n",
            "\u001b[0;32m/usr/local/lib/python3.6/dist-packages/tensorflow/python/client/session.py\u001b[0m in \u001b[0;36m_run\u001b[0;34m(self, handle, fetches, feed_dict, options, run_metadata)\u001b[0m\n\u001b[1;32m   1133\u001b[0m     \u001b[0;32mif\u001b[0m \u001b[0mfinal_fetches\u001b[0m \u001b[0;32mor\u001b[0m \u001b[0mfinal_targets\u001b[0m \u001b[0;32mor\u001b[0m \u001b[0;34m(\u001b[0m\u001b[0mhandle\u001b[0m \u001b[0;32mand\u001b[0m \u001b[0mfeed_dict_tensor\u001b[0m\u001b[0;34m)\u001b[0m\u001b[0;34m:\u001b[0m\u001b[0;34m\u001b[0m\u001b[0m\n\u001b[1;32m   1134\u001b[0m       results = self._do_run(handle, final_targets, final_fetches,\n\u001b[0;32m-> 1135\u001b[0;31m                              feed_dict_tensor, options, run_metadata)\n\u001b[0m\u001b[1;32m   1136\u001b[0m     \u001b[0;32melse\u001b[0m\u001b[0;34m:\u001b[0m\u001b[0;34m\u001b[0m\u001b[0m\n\u001b[1;32m   1137\u001b[0m       \u001b[0mresults\u001b[0m \u001b[0;34m=\u001b[0m \u001b[0;34m[\u001b[0m\u001b[0;34m]\u001b[0m\u001b[0;34m\u001b[0m\u001b[0m\n",
            "\u001b[0;32m/usr/local/lib/python3.6/dist-packages/tensorflow/python/client/session.py\u001b[0m in \u001b[0;36m_do_run\u001b[0;34m(self, handle, target_list, fetch_list, feed_dict, options, run_metadata)\u001b[0m\n\u001b[1;32m   1314\u001b[0m     \u001b[0;32mif\u001b[0m \u001b[0mhandle\u001b[0m \u001b[0;32mis\u001b[0m \u001b[0;32mNone\u001b[0m\u001b[0;34m:\u001b[0m\u001b[0;34m\u001b[0m\u001b[0m\n\u001b[1;32m   1315\u001b[0m       return self._do_call(_run_fn, feeds, fetches, targets, options,\n\u001b[0;32m-> 1316\u001b[0;31m                            run_metadata)\n\u001b[0m\u001b[1;32m   1317\u001b[0m     \u001b[0;32melse\u001b[0m\u001b[0;34m:\u001b[0m\u001b[0;34m\u001b[0m\u001b[0m\n\u001b[1;32m   1318\u001b[0m       \u001b[0;32mreturn\u001b[0m \u001b[0mself\u001b[0m\u001b[0;34m.\u001b[0m\u001b[0m_do_call\u001b[0m\u001b[0;34m(\u001b[0m\u001b[0m_prun_fn\u001b[0m\u001b[0;34m,\u001b[0m \u001b[0mhandle\u001b[0m\u001b[0;34m,\u001b[0m \u001b[0mfeeds\u001b[0m\u001b[0;34m,\u001b[0m \u001b[0mfetches\u001b[0m\u001b[0;34m)\u001b[0m\u001b[0;34m\u001b[0m\u001b[0m\n",
            "\u001b[0;32m/usr/local/lib/python3.6/dist-packages/tensorflow/python/client/session.py\u001b[0m in \u001b[0;36m_do_call\u001b[0;34m(self, fn, *args)\u001b[0m\n\u001b[1;32m   1333\u001b[0m         \u001b[0;32mexcept\u001b[0m \u001b[0mKeyError\u001b[0m\u001b[0;34m:\u001b[0m\u001b[0;34m\u001b[0m\u001b[0m\n\u001b[1;32m   1334\u001b[0m           \u001b[0;32mpass\u001b[0m\u001b[0;34m\u001b[0m\u001b[0m\n\u001b[0;32m-> 1335\u001b[0;31m       \u001b[0;32mraise\u001b[0m \u001b[0mtype\u001b[0m\u001b[0;34m(\u001b[0m\u001b[0me\u001b[0m\u001b[0;34m)\u001b[0m\u001b[0;34m(\u001b[0m\u001b[0mnode_def\u001b[0m\u001b[0;34m,\u001b[0m \u001b[0mop\u001b[0m\u001b[0;34m,\u001b[0m \u001b[0mmessage\u001b[0m\u001b[0;34m)\u001b[0m\u001b[0;34m\u001b[0m\u001b[0m\n\u001b[0m\u001b[1;32m   1336\u001b[0m \u001b[0;34m\u001b[0m\u001b[0m\n\u001b[1;32m   1337\u001b[0m   \u001b[0;32mdef\u001b[0m \u001b[0m_extend_graph\u001b[0m\u001b[0;34m(\u001b[0m\u001b[0mself\u001b[0m\u001b[0;34m)\u001b[0m\u001b[0;34m:\u001b[0m\u001b[0;34m\u001b[0m\u001b[0m\n",
            "\u001b[0;31mInvalidArgumentError\u001b[0m: You must feed a value for placeholder tensor 'dense_6_sample_weights_2' with dtype float and shape [?]\n\t [[Node: dense_6_sample_weights_2 = Placeholder[dtype=DT_FLOAT, shape=[?], _device=\"/job:localhost/replica:0/task:0/device:GPU:0\"]()]]\n\nCaused by op 'dense_6_sample_weights_2', defined at:\n  File \"/usr/lib/python3.6/runpy.py\", line 193, in _run_module_as_main\n    \"__main__\", mod_spec)\n  File \"/usr/lib/python3.6/runpy.py\", line 85, in _run_code\n    exec(code, run_globals)\n  File \"/usr/local/lib/python3.6/dist-packages/ipykernel_launcher.py\", line 16, in <module>\n    app.launch_new_instance()\n  File \"/usr/local/lib/python3.6/dist-packages/traitlets/config/application.py\", line 658, in launch_instance\n    app.start()\n  File \"/usr/local/lib/python3.6/dist-packages/ipykernel/kernelapp.py\", line 477, in start\n    ioloop.IOLoop.instance().start()\n  File \"/usr/local/lib/python3.6/dist-packages/zmq/eventloop/ioloop.py\", line 177, in start\n    super(ZMQIOLoop, self).start()\n  File \"/usr/local/lib/python3.6/dist-packages/tornado/ioloop.py\", line 888, in start\n    handler_func(fd_obj, events)\n  File \"/usr/local/lib/python3.6/dist-packages/tornado/stack_context.py\", line 277, in null_wrapper\n    return fn(*args, **kwargs)\n  File \"/usr/local/lib/python3.6/dist-packages/zmq/eventloop/zmqstream.py\", line 440, in _handle_events\n    self._handle_recv()\n  File \"/usr/local/lib/python3.6/dist-packages/zmq/eventloop/zmqstream.py\", line 472, in _handle_recv\n    self._run_callback(callback, msg)\n  File \"/usr/local/lib/python3.6/dist-packages/zmq/eventloop/zmqstream.py\", line 414, in _run_callback\n    callback(*args, **kwargs)\n  File \"/usr/local/lib/python3.6/dist-packages/tornado/stack_context.py\", line 277, in null_wrapper\n    return fn(*args, **kwargs)\n  File \"/usr/local/lib/python3.6/dist-packages/ipykernel/kernelbase.py\", line 283, in dispatcher\n    return self.dispatch_shell(stream, msg)\n  File \"/usr/local/lib/python3.6/dist-packages/ipykernel/kernelbase.py\", line 235, in dispatch_shell\n    handler(stream, idents, msg)\n  File \"/usr/local/lib/python3.6/dist-packages/ipykernel/kernelbase.py\", line 399, in execute_request\n    user_expressions, allow_stdin)\n  File \"/usr/local/lib/python3.6/dist-packages/ipykernel/ipkernel.py\", line 196, in do_execute\n    res = shell.run_cell(code, store_history=store_history, silent=silent)\n  File \"/usr/local/lib/python3.6/dist-packages/ipykernel/zmqshell.py\", line 533, in run_cell\n    return super(ZMQInteractiveShell, self).run_cell(*args, **kwargs)\n  File \"/usr/local/lib/python3.6/dist-packages/IPython/core/interactiveshell.py\", line 2718, in run_cell\n    interactivity=interactivity, compiler=compiler, result=result)\n  File \"/usr/local/lib/python3.6/dist-packages/IPython/core/interactiveshell.py\", line 2828, in run_ast_nodes\n    if self.run_code(code, result):\n  File \"/usr/local/lib/python3.6/dist-packages/IPython/core/interactiveshell.py\", line 2882, in run_code\n    exec(code_obj, self.user_global_ns, self.user_ns)\n  File \"<ipython-input-53-06a51e8b47f7>\", line 1, in <module>\n    model.compile(loss='categorical_crossentropy', optimizer=keras.optimizers.Adam(lr=.001),metrics=['accuracy'])\n  File \"/usr/local/lib/python3.6/dist-packages/keras/engine/training.py\", line 802, in compile\n    name=name + '_sample_weights'))\n  File \"/usr/local/lib/python3.6/dist-packages/keras/backend/tensorflow_backend.py\", line 508, in placeholder\n    x = tf.placeholder(dtype, shape=shape, name=name)\n  File \"/usr/local/lib/python3.6/dist-packages/tensorflow/python/ops/array_ops.py\", line 1734, in placeholder\n    return gen_array_ops.placeholder(dtype=dtype, shape=shape, name=name)\n  File \"/usr/local/lib/python3.6/dist-packages/tensorflow/python/ops/gen_array_ops.py\", line 4924, in placeholder\n    \"Placeholder\", dtype=dtype, shape=shape, name=name)\n  File \"/usr/local/lib/python3.6/dist-packages/tensorflow/python/framework/op_def_library.py\", line 787, in _apply_op_helper\n    op_def=op_def)\n  File \"/usr/local/lib/python3.6/dist-packages/tensorflow/python/framework/ops.py\", line 3414, in create_op\n    op_def=op_def)\n  File \"/usr/local/lib/python3.6/dist-packages/tensorflow/python/framework/ops.py\", line 1740, in __init__\n    self._traceback = self._graph._extract_stack()  # pylint: disable=protected-access\n\nInvalidArgumentError (see above for traceback): You must feed a value for placeholder tensor 'dense_6_sample_weights_2' with dtype float and shape [?]\n\t [[Node: dense_6_sample_weights_2 = Placeholder[dtype=DT_FLOAT, shape=[?], _device=\"/job:localhost/replica:0/task:0/device:GPU:0\"]()]]\n"
          ]
        }
      ]
    },
    {
      "metadata": {
        "id": "_-RXrdpG_ALN",
        "colab_type": "code",
        "colab": {}
      },
      "cell_type": "code",
      "source": [
        ""
      ],
      "execution_count": 0,
      "outputs": []
    }
  ]
}