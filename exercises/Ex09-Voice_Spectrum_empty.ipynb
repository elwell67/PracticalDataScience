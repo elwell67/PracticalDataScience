{
 "cells": [
  {
   "cell_type": "markdown",
   "metadata": {},
   "source": [
    "## Kaggle Speech Audio Data Analysis\n",
    "\n",
    "Simple analysis of a subset of the data from https://www.kaggle.com/c/tensorflow-speech-recognition-challenge"
   ]
  },
  {
   "cell_type": "code",
   "execution_count": null,
   "metadata": {
    "ExecuteTime": {
     "end_time": "2018-08-01T23:23:47.554812Z",
     "start_time": "2018-08-01T19:23:45.650601-04:00"
    }
   },
   "outputs": [],
   "source": [
    "%matplotlib inline\n",
    "\n",
    "from ipywidgets import interactive\n",
    "from IPython.display import Audio, display\n",
    "import numpy as np\n",
    "from scipy.io import wavfile\n",
    "import matplotlib.pyplot as plt\n",
    "import pandas as pd\n",
    "import librosa as lr\n",
    "import librosa.display as lrd\n",
    "from scipy import misc, signal\n",
    "import pickle\n",
    "\n",
    "from matplotlib.transforms import Bbox\n",
    "# from tf_speech import speech\n",
    "\n",
    "plt.rcParams['figure.figsize'] = (15.0, 3.0)"
   ]
  },
  {
   "cell_type": "markdown",
   "metadata": {},
   "source": [
    "## Unpickle data"
   ]
  },
  {
   "cell_type": "code",
   "execution_count": null,
   "metadata": {
    "ExecuteTime": {
     "end_time": "2018-08-01T23:23:47.778140Z",
     "start_time": "2018-08-01T19:23:47.557179-04:00"
    }
   },
   "outputs": [],
   "source": [
    "!gzip -dkf data/short_wav_data.pkl.gz"
   ]
  },
  {
   "cell_type": "markdown",
   "metadata": {},
   "source": [
    "## Load data from Pickle"
   ]
  },
  {
   "cell_type": "code",
   "execution_count": null,
   "metadata": {
    "ExecuteTime": {
     "end_time": "2018-08-01T23:23:47.813225Z",
     "start_time": "2018-08-01T19:23:47.781543-04:00"
    }
   },
   "outputs": [],
   "source": [
    "data = pickle.load(open('data/short_wav_data.pkl', 'rb'))\n",
    "df_train = data['df_train'].reset_index(drop=True)\n",
    "x_test = data['x_test']\n",
    "y_test = data['y_test']\n"
   ]
  },
  {
   "cell_type": "code",
   "execution_count": null,
   "metadata": {
    "ExecuteTime": {
     "end_time": "2018-08-01T23:23:47.843526Z",
     "start_time": "2018-08-01T19:23:47.815409-04:00"
    }
   },
   "outputs": [],
   "source": [
    "df_train.head()"
   ]
  },
  {
   "cell_type": "markdown",
   "metadata": {},
   "source": [
    "## Print value counts by command\n"
   ]
  },
  {
   "cell_type": "code",
   "execution_count": null,
   "metadata": {
    "ExecuteTime": {
     "end_time": "2018-08-01T23:23:47.852014Z",
     "start_time": "2018-08-01T19:23:47.845626-04:00"
    },
    "scrolled": true
   },
   "outputs": [],
   "source": [
    "# df_train..."
   ]
  },
  {
   "cell_type": "markdown",
   "metadata": {},
   "source": [
    "## Play wave for row 10\n",
    "\n",
    "\n",
    "Play wav file in jupyter.  See http://ipython.org/ipython-doc/2/api/generated/IPython.lib.display.html#IPython.lib.display.Audio for details."
   ]
  },
  {
   "cell_type": "code",
   "execution_count": null,
   "metadata": {
    "ExecuteTime": {
     "end_time": "2018-08-01T23:23:47.870658Z",
     "start_time": "2018-08-01T19:23:47.853925-04:00"
    }
   },
   "outputs": [],
   "source": [
    "print(df_train.iloc[10,:])\n",
    "sample_rate = 16000\n",
    "wav = x_test[10,:].flatten()\n",
    "# Audio(..."
   ]
  },
  {
   "cell_type": "markdown",
   "metadata": {},
   "source": [
    "## Plot time domain waveform for row 10"
   ]
  },
  {
   "cell_type": "code",
   "execution_count": null,
   "metadata": {
    "ExecuteTime": {
     "end_time": "2018-08-01T23:23:48.054333Z",
     "start_time": "2018-08-01T19:23:47.872594-04:00"
    },
    "scrolled": true
   },
   "outputs": [],
   "source": [
    "# plt.plot(..."
   ]
  },
  {
   "cell_type": "markdown",
   "metadata": {},
   "source": [
    "## Plot spectrogram for row 10\n",
    "\n",
    "See https://matplotlib.org/api/_as_gen/matplotlib.pyplot.specgram.html."
   ]
  },
  {
   "cell_type": "code",
   "execution_count": null,
   "metadata": {
    "ExecuteTime": {
     "end_time": "2018-08-01T23:23:48.246988Z",
     "start_time": "2018-08-01T19:23:48.056377-04:00"
    }
   },
   "outputs": [],
   "source": [
    "# plt.specgram(..."
   ]
  },
  {
   "cell_type": "markdown",
   "metadata": {},
   "source": [
    "## Make function to play sound and show plots"
   ]
  },
  {
   "cell_type": "code",
   "execution_count": null,
   "metadata": {
    "ExecuteTime": {
     "end_time": "2018-08-01T23:25:45.710683Z",
     "start_time": "2018-08-01T19:25:45.631764-04:00"
    }
   },
   "outputs": [],
   "source": [
    "def show_a_sample(row, x_test):\n",
    "    \"\"\"Present a wav file sample.  \n",
    "    \n",
    "    Function should \n",
    "      - print row parameters\n",
    "      - play sound\n",
    "      - show time domain wav\n",
    "      - show spectrogram wav\n",
    "    \n",
    "    Args:\n",
    "        row: pandas dataframe row\n",
    "        x_test: numpy array of all wavs\n",
    "        \n",
    "    Returns:\n",
    "        wav: 1D array wav file\n",
    "    \n",
    "    \"\"\"\n",
    "    sample_rate = 16000\n",
    "    wav = x_test[row.Index,:].flatten()\n",
    "    \n",
    "    # insert code here\n",
    "\n",
    "    return wav\n",
    "\n",
    "wav = show_a_sample(list(df_train.itertuples())[0], x_test)"
   ]
  },
  {
   "cell_type": "markdown",
   "metadata": {},
   "source": [
    "## Loop through all \"tree\" commands\n",
    "\n"
   ]
  },
  {
   "cell_type": "code",
   "execution_count": null,
   "metadata": {
    "ExecuteTime": {
     "end_time": "2018-08-01T23:23:51.081472Z",
     "start_time": "2018-08-01T19:23:48.604494-04:00"
    },
    "scrolled": false
   },
   "outputs": [],
   "source": [
    "# for row in df_train[...:\n",
    "#     wav = show_a_sample(..."
   ]
  }
 ],
 "metadata": {
  "kernelspec": {
   "display_name": "Python 3",
   "language": "python",
   "name": "python3"
  },
  "language_info": {
   "codemirror_mode": {
    "name": "ipython",
    "version": 3
   },
   "file_extension": ".py",
   "mimetype": "text/x-python",
   "name": "python",
   "nbconvert_exporter": "python",
   "pygments_lexer": "ipython3",
   "version": "3.6.6"
  }
 },
 "nbformat": 4,
 "nbformat_minor": 2
}
